<?xml version="1.0" encoding="UTF-8"?><plist version="1.0"><dict><key>path</key><string>x-migration://user.deens.file//OneDrive/Documents/Career/DataScienceMachineLearning/Tools/git/springboard/springboard-data-science/DataScienceGuidedCapstone/Notebooks/05_modeling.ipynb</string><key>owner</key><string>deens</string><key>mode</key><string>0644</string><key>compression</key><string>none</string><key>rawPath</key><string>C:\Users\deens\OneDrive\Documents\Career\DataScienceMachineLearning\Tools\git\springboard\springboard-data-science\DataScienceGuidedCapstone\Notebooks\05_modeling.ipynb</string></dict></plist><?xml version="1.0" encoding="UTF-8"?><plist version="1.0"><dict><key>path</key><string>x-migration://user.deens.file//OneDrive/Documents/Career/DataScienceMachineLearning/Tools/git/springboard/springboard-data-science/DataScienceGuidedCapstone/Notebooks/library/sb_utils.py</string><key>owner</key><string>deens</string><key>mode</key><string>0644</string><key>compression</key><string>none</string><key>rawPath</key><string>C:\Users\deens\OneDrive\Documents\Career\DataScienceMachineLearning\Tools\git\springboard\springboard-data-science\DataScienceGuidedCapstone\Notebooks\library\sb_utils.py</string></dict></plist>import pandas as pd
import os
import pickle
    
    
# This utility was created because students were getting confused when they ran 
# their notebooks twice, the previous write-to-file code would do nothing and say  
# nothing. The students thought the file was over-written when in fact, it was not -
# generating hidden bugs in subsequent notebooks.

def save_file(data, fname, dname):
    """Save a datafile (data) to a specific location (dname) and filename (fname)
    
    Currently valid formats are limited to CSV or PKL."""
    
    if not os.path.exists(dname):
        os.mkdir(dname)
        print(f'Directory {dname} was created.')
        
    fpath = os.path.join(dname, fname)
    
    
    if os.path.exists(fpath):
        print("A file already exists with this name.\n")

        yesno = None
        while yesno != "Y" and yesno != "N":
            yesno = input('Do you want to overwrite? (Y/N)').strip()[0].capitalize()
            if yesno == "Y":
                print(f'Writing file.  "{fpath}"')
                _save_file(data, fpath)
                break  # Not required
            elif yesno == "N":
                print('\nPlease re-run this cell with a new filename.')
                break  # Not required
            else:
                print('\nUnknown input, please enter "Y" or "N".')

    else:  # path does not exist, ok to save the file
        print(f'Writing file.  "{fpath}"')
        _save_file(data, fpath)
        
        
        
        
        
        
def _save_file(data, fpath):
    valid_ftypes = ['.csv', '.pkl']
    
    assert (fpath[-4:] in valid_ftypes), "Invalid file type.  Use '.csv' or '.pkl'"

    # Figure out what kind of file we're dealing with by name
    if fpath[-3:] == 'csv':
        data.to_csv(fpath, index=False)
    elif fpath[-3:] == 'pkl':
        with open(fpath, 'wb') as f:
            pickle.dump(data, f)
            