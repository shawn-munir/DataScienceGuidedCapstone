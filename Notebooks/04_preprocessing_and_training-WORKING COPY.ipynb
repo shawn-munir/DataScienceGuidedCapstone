{
 "cells": [
  {
   "cell_type": "markdown",
   "metadata": {},
   "source": [
    "# 4 Pre-Processing and Training Data<a id='4_Pre-Processing_and_Training_Data'></a>"
   ]
  },
  {
   "cell_type": "markdown",
   "metadata": {},
   "source": [
    "## 4.1 Contents<a id='4.1_Contents'></a>\n",
    "* [4 Pre-Processing and Training Data](#4_Pre-Processing_and_Training_Data)\n",
    "  * [4.1 Contents](#4.1_Contents)\n",
    "  * [4.2 Introduction](#4.2_Introduction)\n",
    "  * [4.3 Imports](#4.3_Imports)\n",
    "  * [4.4 Load Data](#4.4_Load_Data)\n",
    "  * [4.5 Extract Big Mountain Data](#4.5_Extract_Big_Mountain_Data)\n",
    "  * [4.6 Train/Test Split](#4.6_Train/Test_Split)\n",
    "  * [4.7 Initial Not-Even-A-Model](#4.7_Initial_Not-Even-A-Model)\n",
    "    * [4.7.1 Metrics](#4.7.1_Metrics)\n",
    "      * [4.7.1.1 R-squared, or coefficient of determination](#4.7.1.1_R-squared,_or_coefficient_of_determination)\n",
    "      * [4.7.1.2 Mean Absolute Error](#4.7.1.2_Mean_Absolute_Error)\n",
    "      * [4.7.1.3 Mean Squared Error](#4.7.1.3_Mean_Squared_Error)\n",
    "    * [4.7.2 sklearn metrics](#4.7.2_sklearn_metrics)\n",
    "        * [4.7.2.0.1 R-squared](#4.7.2.0.1_R-squared)\n",
    "        * [4.7.2.0.2 Mean absolute error](#4.7.2.0.2_Mean_absolute_error)\n",
    "        * [4.7.2.0.3 Mean squared error](#4.7.2.0.3_Mean_squared_error)\n",
    "    * [4.7.3 Note On Calculating Metrics](#4.7.3_Note_On_Calculating_Metrics)\n",
    "  * [4.8 Initial Models](#4.8_Initial_Models)\n",
    "    * [4.8.1 Imputing missing feature (predictor) values](#4.8.1_Imputing_missing_feature_(predictor)_values)\n",
    "      * [4.8.1.1 Impute missing values with median](#4.8.1.1_Impute_missing_values_with_median)\n",
    "        * [4.8.1.1.1 Learn the values to impute from the train set](#4.8.1.1.1_Learn_the_values_to_impute_from_the_train_set)\n",
    "        * [4.8.1.1.2 Apply the imputation to both train and test splits](#4.8.1.1.2_Apply_the_imputation_to_both_train_and_test_splits)\n",
    "        * [4.8.1.1.3 Scale the data](#4.8.1.1.3_Scale_the_data)\n",
    "        * [4.8.1.1.4 Train the model on the train split](#4.8.1.1.4_Train_the_model_on_the_train_split)\n",
    "        * [4.8.1.1.5 Make predictions using the model on both train and test splits](#4.8.1.1.5_Make_predictions_using_the_model_on_both_train_and_test_splits)\n",
    "        * [4.8.1.1.6 Assess model performance](#4.8.1.1.6_Assess_model_performance)\n",
    "      * [4.8.1.2 Impute missing values with the mean](#4.8.1.2_Impute_missing_values_with_the_mean)\n",
    "        * [4.8.1.2.1 Learn the values to impute from the train set](#4.8.1.2.1_Learn_the_values_to_impute_from_the_train_set)\n",
    "        * [4.8.1.2.2 Apply the imputation to both train and test splits](#4.8.1.2.2_Apply_the_imputation_to_both_train_and_test_splits)\n",
    "        * [4.8.1.2.3 Scale the data](#4.8.1.2.3_Scale_the_data)\n",
    "        * [4.8.1.2.4 Train the model on the train split](#4.8.1.2.4_Train_the_model_on_the_train_split)\n",
    "        * [4.8.1.2.5 Make predictions using the model on both train and test splits](#4.8.1.2.5_Make_predictions_using_the_model_on_both_train_and_test_splits)\n",
    "        * [4.8.1.2.6 Assess model performance](#4.8.1.2.6_Assess_model_performance)\n",
    "    * [4.8.2 Pipelines](#4.8.2_Pipelines)\n",
    "      * [4.8.2.1 Define the pipeline](#4.8.2.1_Define_the_pipeline)\n",
    "      * [4.8.2.2 Fit the pipeline](#4.8.2.2_Fit_the_pipeline)\n",
    "      * [4.8.2.3 Make predictions on the train and test sets](#4.8.2.3_Make_predictions_on_the_train_and_test_sets)\n",
    "      * [4.8.2.4 Assess performance](#4.8.2.4_Assess_performance)\n",
    "  * [4.9 Refining The Linear Model](#4.9_Refining_The_Linear_Model)\n",
    "    * [4.9.1 Define the pipeline](#4.9.1_Define_the_pipeline)\n",
    "    * [4.9.2 Fit the pipeline](#4.9.2_Fit_the_pipeline)\n",
    "    * [4.9.3 Assess performance on the train and test set](#4.9.3_Assess_performance_on_the_train_and_test_set)\n",
    "    * [4.9.4 Define a new pipeline to select a different number of features](#4.9.4_Define_a_new_pipeline_to_select_a_different_number_of_features)\n",
    "    * [4.9.5 Fit the pipeline](#4.9.5_Fit_the_pipeline)\n",
    "    * [4.9.6 Assess performance on train and test data](#4.9.6_Assess_performance_on_train_and_test_data)\n",
    "    * [4.9.7 Assessing performance using cross-validation](#4.9.7_Assessing_performance_using_cross-validation)\n",
    "    * [4.9.8 Hyperparameter search using GridSearchCV](#4.9.8_Hyperparameter_search_using_GridSearchCV)\n",
    "  * [4.10 Random Forest Model](#4.10_Random_Forest_Model)\n",
    "    * [4.10.1 Define the pipeline](#4.10.1_Define_the_pipeline)\n",
    "    * [4.10.2 Fit and assess performance using cross-validation](#4.10.2_Fit_and_assess_performance_using_cross-validation)\n",
    "    * [4.10.3 Hyperparameter search using GridSearchCV](#4.10.3_Hyperparameter_search_using_GridSearchCV)\n",
    "  * [4.11 Final Model Selection](#4.11_Final_Model_Selection)\n",
    "    * [4.11.1 Linear regression model performance](#4.11.1_Linear_regression_model_performance)\n",
    "    * [4.11.2 Random forest regression model performance](#4.11.2_Random_forest_regression_model_performance)\n",
    "    * [4.11.3 Conclusion](#4.11.3_Conclusion)\n",
    "  * [4.12 Data quantity assessment](#4.12_Data_quantity_assessment)\n",
    "  * [4.13 Save best model object from pipeline](#4.13_Save_best_model_object_from_pipeline)\n",
    "  * [4.14 Summary](#4.14_Summary)\n"
   ]
  },
  {
   "cell_type": "markdown",
   "metadata": {},
   "source": [
    "## 4.2 Introduction<a id='4.2_Introduction'></a>"
   ]
  },
  {
   "cell_type": "markdown",
   "metadata": {},
   "source": [
    "In preceding notebooks, performed preliminary assessments of data quality and refined the question to be answered. You found a small number of data values that gave clear choices about whether to replace values or drop a whole row. You determined that predicting the adult weekend ticket price was your primary aim. You threw away records with missing price data, but not before making the most of the other available data to look for any patterns between the states. You didn't see any and decided to treat all states equally; the state label didn't seem to be particularly useful.\n",
    "\n",
    "In this notebook you'll start to build machine learning models. Before even starting with learning a machine learning model, however, start by considering how useful the mean value is as a predictor. This is more than just a pedagogical device. You never want to go to stakeholders with a machine learning model only to have the CEO point out that it performs worse than just guessing the average! Your first model is a baseline performance comparitor for any subsequent model. You then build up the process of efficiently and robustly creating and assessing models against it. The development we lay out may be little slower than in the real world, but this step of the capstone is definitely more than just instructional. It is good practice to build up an understanding that the machine learning pipelines you build work as expected. You can validate steps with your own functions for checking expected equivalence between, say, pandas and sklearn implementations."
   ]
  },
  {
   "cell_type": "code",
   "execution_count": null,
   "metadata": {},
   "outputs": [],
   "source": [
    "#That's right, we analyzed the data utilizing the data we still had even in the rows that had missing data\n"
   ]
  },
  {
   "cell_type": "markdown",
   "metadata": {},
   "source": [
    "## 4.3 Imports<a id='4.3_Imports'></a>"
   ]
  },
  {
   "cell_type": "code",
   "execution_count": null,
   "metadata": {},
   "outputs": [],
   "source": [
    "import pandas as pd\n",
    "import numpy as np\n",
    "import os\n",
    "import pickle\n",
    "import matplotlib.pyplot as plt\n",
    "import seaborn as sns\n",
    "from sklearn import __version__ as sklearn_version\n",
    "from sklearn.decomposition import PCA\n",
    "from sklearn.preprocessing import scale\n",
    "from sklearn.model_selection import train_test_split, cross_validate, GridSearchCV, learning_curve\n",
    "from sklearn.preprocessing import StandardScaler, MinMaxScaler\n",
    "from sklearn.dummy import DummyRegressor\n",
    "from sklearn.linear_model import LinearRegression\n",
    "from sklearn.ensemble import RandomForestRegressor\n",
    "from sklearn.metrics import r2_score, mean_squared_error, mean_absolute_error\n",
    "from sklearn.pipeline import make_pipeline\n",
    "from sklearn.impute import SimpleImputer\n",
    "from sklearn.feature_selection import SelectKBest, f_regression\n",
    "import datetime\n",
    "\n",
    "from library.sb_utils import save_file"
   ]
  },
  {
   "cell_type": "markdown",
   "metadata": {},
   "source": [
    "## 4.4 Load Data<a id='4.4_Load_Data'></a>"
   ]
  },
  {
   "cell_type": "code",
   "execution_count": null,
   "metadata": {
    "scrolled": false
   },
   "outputs": [],
   "source": [
    "ski_data = pd.read_csv('../data/ski_data_step3_features.csv')\n",
    "ski_data.head().T"
   ]
  },
  {
   "cell_type": "code",
   "execution_count": null,
   "metadata": {},
   "outputs": [],
   "source": [
    "#I'm wondering if my version is the same as what they intended. I mean the main thing is adding the several features\n",
    "#But I don't know which all rows and columns they took out...\n",
    "#I'm not sure if they already had a file in place there\n",
    "#But if so I should have kept a separate file of mine rather than overwrite"
   ]
  },
  {
   "cell_type": "code",
   "execution_count": null,
   "metadata": {},
   "outputs": [],
   "source": [
    "ski_data.shape"
   ]
  },
  {
   "cell_type": "markdown",
   "metadata": {},
   "source": [
    "## 4.5 Extract Big Mountain Data<a id='4.5_Extract_Big_Mountain_Data'></a>"
   ]
  },
  {
   "cell_type": "markdown",
   "metadata": {},
   "source": [
    "Big Mountain is your resort. Separate it from the rest of the data to use later."
   ]
  },
  {
   "cell_type": "code",
   "execution_count": null,
   "metadata": {},
   "outputs": [],
   "source": [
    "big_mountain = ski_data[ski_data.Name == 'Big Mountain Resort']"
   ]
  },
  {
   "cell_type": "code",
   "execution_count": null,
   "metadata": {
    "scrolled": true
   },
   "outputs": [],
   "source": [
    "big_mountain.T"
   ]
  },
  {
   "cell_type": "code",
   "execution_count": null,
   "metadata": {},
   "outputs": [],
   "source": [
    "#hmmm so for me it's showing as 150, but for them it's 124"
   ]
  },
  {
   "cell_type": "code",
   "execution_count": null,
   "metadata": {},
   "outputs": [],
   "source": [
    "ski_data.shape"
   ]
  },
  {
   "cell_type": "code",
   "execution_count": null,
   "metadata": {},
   "outputs": [],
   "source": [
    "#ahh okay, this is why. they only have 277 rows. they're def using the trimmed dataset\n",
    "#let me work on that:\n",
    "\n",
    "ski_data = ski_data[ski_data.yearsOpen < 1000]\n",
    "\n",
    "# missing_price = ski_data[['AdultWeekend', 'AdultWeekday']].isnull().sum(axis=1)\n",
    "\n",
    "# ski_data = ski_data[missing_price != 2]\n",
    "\n",
    "ski_data.dropna(subset=['AdultWeekend'], inplace=True)"
   ]
  },
  {
   "cell_type": "code",
   "execution_count": null,
   "metadata": {},
   "outputs": [],
   "source": [
    "ski_data.shape"
   ]
  },
  {
   "cell_type": "code",
   "execution_count": null,
   "metadata": {},
   "outputs": [],
   "source": [
    "#ok aH theek hai should be fixed now aH"
   ]
  },
  {
   "cell_type": "code",
   "execution_count": null,
   "metadata": {},
   "outputs": [],
   "source": [
    "ski_data = ski_data[ski_data.Name != 'Big Mountain Resort']"
   ]
  },
  {
   "cell_type": "code",
   "execution_count": null,
   "metadata": {},
   "outputs": [],
   "source": [
    "#hain? but why do we wanna get rid of it and nix it off altogether?"
   ]
  },
  {
   "cell_type": "code",
   "execution_count": null,
   "metadata": {},
   "outputs": [],
   "source": [
    "ski_data.shape"
   ]
  },
  {
   "cell_type": "code",
   "execution_count": null,
   "metadata": {
    "scrolled": true
   },
   "outputs": [],
   "source": [
    "ski_data.isna().sum()"
   ]
  },
  {
   "cell_type": "code",
   "execution_count": null,
   "metadata": {},
   "outputs": [],
   "source": [
    "#not sure how this compares to the actual one they use... should be the same tho?"
   ]
  },
  {
   "cell_type": "markdown",
   "metadata": {},
   "source": [
    "## 4.6 Train/Test Split<a id='4.6_Train/Test_Split'></a>"
   ]
  },
  {
   "cell_type": "markdown",
   "metadata": {},
   "source": [
    "So far, you've treated ski resort data as a single entity. In machine learning, when you train your model on all of your data, you end up with no data set aside to evaluate model performance. You could keep making more and more complex models that fit the data better and better and not realise you were overfitting to that one set of samples. By partitioning the data into training and testing splits, without letting a model (or missing-value imputation) learn anything about the test split, you have a somewhat independent assessment of how your model might perform in the future. An often overlooked subtlety here is that people all too frequently use the test set to assess model performance _and then compare multiple models to pick the best_. This means their overall model selection process is  fitting to one specific data set, now the test split. You could keep going, trying to get better and better performance on that one data set, but that's  where cross-validation becomes especially useful. While training models, a test split is very useful as a final check on expected future performance."
   ]
  },
  {
   "cell_type": "code",
   "execution_count": null,
   "metadata": {},
   "outputs": [],
   "source": [
    "#ahh yeah makes sense. since we have no other data to test out on, WE CAN'T USE OUR ENTIRE DATASET TO FORM THE MODEL /\n",
    "#TRAIN!!!\n",
    "\n",
    "#and yes, the pitfall run into in dasci is coming up with a model TOO specific to JUST your one dataset!\n",
    "\n",
    "#so we're gonna split our data to leave some for testing\n",
    "\n",
    "#we're kind of doing a trick/hack - so we already used ALL our data to train / fit. but now we're gonna shear off a\n",
    "#portion of the data to test on and simply see if it lines up!\n",
    "\n",
    "#{trying to paraphrase what they're saying above}:\n",
    "#\"another pitfall ppl fall into is testing a model on the test portion and then testing multiple models to see which\n",
    "#is best. But the problem is that this is effectively picking a model based off its fit to the TEST data, NOT the\n",
    "#training data. So it's still the same pitfall as above, just relocated - fitting too specifically to just one set\n",
    "\n",
    "#then ppl get over obsessed w/ trying to make the model fit the new test set, but again - the problem w/ that is then\n",
    "#it's just learning ONE SPECIFIC TYPE OF DATA!"
   ]
  },
  {
   "cell_type": "markdown",
   "metadata": {},
   "source": [
    "What partition sizes would you have with a 70/30 train/test split?"
   ]
  },
  {
   "cell_type": "code",
   "execution_count": null,
   "metadata": {},
   "outputs": [],
   "source": [
    "#meaning splitting our 276 NON-BIG-MOUNTAIN ROWS into 70-training/30-test\n",
    "len(ski_data) * .7, len(ski_data) * .3"
   ]
  },
  {
   "cell_type": "code",
   "execution_count": null,
   "metadata": {},
   "outputs": [],
   "source": [
    "#ahhh okay, so we split off our Big Mountain resort so that we can specifically test on / predict on THAT ALONE!\n",
    "#but isn't the point that we're tryna SET an optimal price? NOT that we're trying to PREDICT it?"
   ]
  },
  {
   "cell_type": "code",
   "execution_count": null,
   "metadata": {},
   "outputs": [],
   "source": [
    "#Added this to make it easier to understand:\n",
    "X = ski_data.drop(columns='AdultWeekend')\n",
    "y = ski_data.AdultWeekend\n",
    "\n",
    "X_train, X_test, y_train, y_test = train_test_split(X, y, test_size=0.3, random_state=47)\n",
    "\n",
    "#okay what is this saying/doing?\n",
    "#okay so train_test_split IS actually a sickit learn preloaded/predefined function:\n",
    "#https://scikit-learn.org/stable/modules/generated/sklearn.model_selection.train_test_split.html\n",
    "\n",
    "#so this is saying that / what this is doing is: we're splitting the data first of all into 70/30 train/test,\n",
    "#and so X_train & y_train will get 70% of their respective data and the balance 30% will go to X_test, y_test!\n",
    "#so that's why we specify those 4 variables at the outset\n",
    "#the X is everything BUT the price since that's what we wanna predict BASED ON IT i.e. the y!!!\n",
    "#and thus the y is JUST the price column\n",
    "\n",
    "#so we feed it these two arrays, and then it's gonna split it / cut it up accordingly\n",
    "\n",
    "#so the formula/function knows to split the data according to how we specify for train/test for both X & y\n",
    "\n",
    "\n",
    "#'X_train' is our latest reduced but expanded overall dataset, MINUS the weekend price column altogether -\n",
    "#THAT'S BECAUSE THAT'S WHAT WE'RE TRYING TO PREDICT / THAT'S GONNA BE THE Y!!! X_train is 70% of (the) X\n",
    "\n",
    "#X_test is the remaining/remainder 30% of X\n",
    "\n",
    "\n",
    "#and thus y_train & y_test are the random 70/30 split of the y data i.e. the price data\n",
    "\n",
    "\n",
    "#test size is telling it the PORTION of the loaded data that will be for testing, vs training\n",
    "\n",
    "#random state tells it how much to shuffle? and something about that this is like a unique identifier that will make\n",
    "#the random results reproducible if we wanna run it again? i remember we dealt w/ something about that, but don't know\n",
    "#if it was random_state - not finding that in my notes\n"
   ]
  },
  {
   "cell_type": "code",
   "execution_count": null,
   "metadata": {},
   "outputs": [],
   "source": [
    "X_train.shape, X_test.shape"
   ]
  },
  {
   "cell_type": "code",
   "execution_count": null,
   "metadata": {},
   "outputs": [],
   "source": [
    "y_train.shape, y_test.shape"
   ]
  },
  {
   "cell_type": "code",
   "execution_count": null,
   "metadata": {
    "scrolled": false
   },
   "outputs": [],
   "source": [
    "#note the notation when there's only one column... for some reason it won't say '1'\n",
    "#let's see what it looks like just to confirm...\n",
    "\n",
    "y_train.head"
   ]
  },
  {
   "cell_type": "code",
   "execution_count": null,
   "metadata": {},
   "outputs": [],
   "source": [
    "ski_data.head()"
   ]
  },
  {
   "cell_type": "code",
   "execution_count": null,
   "metadata": {
    "scrolled": false
   },
   "outputs": [],
   "source": [
    "#ahh okay i just realized now that i look at this that i never reset the index for ski_data so it's a little messy\n",
    "#well, actually it doesn't matter\n",
    "#but also, THEY DIDN'T EITHER - so i don't wanna risk wandering / venturing off on my own again and then have little\n",
    "#mismatches now that lead to huge problems later and wild goose chases, don't wanna have to keep track of a parallel\n",
    "#set this whole time! but just for myself:\n",
    "# ski_data_sm = ski_data.copy()\n",
    "# ski_data_sm.reset_index(drop=True, inplace=True)\n",
    "# ski_data_sm.drop(columns=['level_0','index'],inplace=True)\n",
    "# ski_data_sm"
   ]
  },
  {
   "cell_type": "code",
   "execution_count": null,
   "metadata": {},
   "outputs": [],
   "source": [
    "#okay cool so i fixed my own personal copy. and JUST to make double sure & triple check that the original data wasn't\n",
    "#affected:"
   ]
  },
  {
   "cell_type": "code",
   "execution_count": null,
   "metadata": {
    "scrolled": true
   },
   "outputs": [],
   "source": [
    "# ski_data"
   ]
  },
  {
   "cell_type": "code",
   "execution_count": null,
   "metadata": {},
   "outputs": [],
   "source": [
    "#good aH we're in business then!"
   ]
  },
  {
   "cell_type": "code",
   "execution_count": null,
   "metadata": {},
   "outputs": [],
   "source": [
    "#had to go through this song and dance because i didn't save/checkpoint quite right and had to do exactly what i said\n",
    "#i wouldn't above about not messing around w/ the original data.... -----_________-----\n",
    "\n",
    "# ski_data_copy = ski_data.copy()\n",
    "# ski_data_copy.drop(columns='level_0', inplace=True)\n",
    "# ski_data_copy.reset_index(drop=True, inplace=True)\n",
    "# ski_data_copy.set_index('index', inplace=True)\n",
    "# ski_data_copy"
   ]
  },
  {
   "cell_type": "code",
   "execution_count": null,
   "metadata": {},
   "outputs": [],
   "source": [
    "# ski_data = ski_data_copy\n",
    "# ski_data"
   ]
  },
  {
   "cell_type": "code",
   "execution_count": null,
   "metadata": {},
   "outputs": [],
   "source": [
    "#Code task 1#\n",
    "#Save the 'Name', 'state', and 'Region' columns from the train/test data into names_train and names_test\n",
    "#Then drop those columns from `X_train` and `X_test`. Use 'inplace=True'\n",
    "\n",
    "#the columns that we will separate off from the rest of the data\n",
    "#storing as a variable list for easy access down\n",
    "names_list = ['Name', 'state', 'Region']\n",
    "\n",
    "#separate off these 3 & store in/as a new df\n",
    "names_train = X_train[names_list] #the resorts of the/Team TRAIN set!\n",
    "names_test = X_test[names_list] #the resorts of the/Team TEST set!\n",
    "#^^note that for/when you split a df into train/test you're only splitting the ROWS, *NOT* THE COLUMNS!!! SO YOU'LL\n",
    "#STILL HAVE ALL THE COLUMNS FOR EACH!!\n",
    "\n",
    "#okay so now that we've saved/stored these columns separately, we're gonna kick these off columns from\n",
    "#X_train & X_test\n",
    "\n",
    "X_train.drop(columns=names_list, inplace=True)\n",
    "X_test.drop(columns=names_list, inplace=True)\n",
    "X_train.shape, X_test.shape"
   ]
  },
  {
   "cell_type": "code",
   "execution_count": null,
   "metadata": {},
   "outputs": [],
   "source": [
    "#oops, i was supposed to use .copy() or like .iloc instead of straight 'chain-indexing'"
   ]
  },
  {
   "cell_type": "code",
   "execution_count": null,
   "metadata": {},
   "outputs": [],
   "source": [
    "#Code task 2#\n",
    "#Check the `dtypes` attribute of `X_train` to verify all features are numeric\n",
    "X_train.dtypes"
   ]
  },
  {
   "cell_type": "code",
   "execution_count": null,
   "metadata": {},
   "outputs": [],
   "source": [
    "#Code task 3#\n",
    "#Repeat this check for the test split in `X_test`\n",
    "X_test.dtypes"
   ]
  },
  {
   "cell_type": "markdown",
   "metadata": {},
   "source": [
    "You have only numeric features in your X now!"
   ]
  },
  {
   "cell_type": "code",
   "execution_count": null,
   "metadata": {},
   "outputs": [],
   "source": [
    "#the two use the same columns so what was th point of checking both? assumably there weren't any mix of variables within\n",
    "#one column?"
   ]
  },
  {
   "cell_type": "markdown",
   "metadata": {},
   "source": [
    "## 4.7 Initial Not-Even-A-Model<a id='4.7_Initial_Not-Even-A-Model'></a>"
   ]
  },
  {
   "cell_type": "code",
   "execution_count": null,
   "metadata": {},
   "outputs": [],
   "source": [
    "#^what's that supposed to mean? lol, now THAT'S funnier - 'mean,' get it?"
   ]
  },
  {
   "cell_type": "markdown",
   "metadata": {},
   "source": [
    "A good place to start is to see how good the mean is as a predictor. In other words, what if you simply say your best guess is the average price?"
   ]
  },
  {
   "cell_type": "code",
   "execution_count": null,
   "metadata": {},
   "outputs": [],
   "source": [
    "#so you mean see how good / accurate it is to predict the price if we JUST / simply use the / go by/off the mean?"
   ]
  },
  {
   "cell_type": "code",
   "execution_count": null,
   "metadata": {},
   "outputs": [],
   "source": [
    "#Code task 4#\n",
    "#Calculate the mean of `y_train`\n",
    "train_mean = y_train.mean()\n",
    "train_mean"
   ]
  },
  {
   "cell_type": "markdown",
   "metadata": {},
   "source": [
    "`sklearn`'s `DummyRegressor` easily does this:"
   ]
  },
  {
   "cell_type": "code",
   "execution_count": null,
   "metadata": {
    "scrolled": true
   },
   "outputs": [],
   "source": [
    "#Code task 5#\n",
    "#Fit the dummy regressor on the training data\n",
    "#Hint, call its `.fit()` method with `X_train` and `y_train` as arguments\n",
    "#Then print the object's `constant_` attribute and verify it's the same as the mean above\n",
    "dumb_reg = DummyRegressor(strategy='mean')\n",
    "dumb_reg.fit(X_train, y_train)\n",
    "dumb_reg.constant_\n",
    "#constant predicts one CONSTANT value so it only works w/ constant types like .mean\n",
    "\n",
    "\n",
    "#BUT - if you think about it, the x-points / features really don't matter because we're not even factoring those in /\n",
    "#taking anything away from them! but it doesn't give you the option to leave it out\n",
    "\n",
    "#but i think it's because for fitting purposes you have to have an x, and then these values are associated w/ /\n",
    "#affiliated w/ those, and so then whenever you call on the predictor to predict based off a set of / those set of\n",
    "#x-values, it'll be able to spit out the y that was affiliated w/ them\n",
    "#cuz when we're predicting, you're always gonna be calling on a set of X's!!! i.e. the REST of the data other than\n",
    "#what you're tryna predict - the INDEPENDENT VARIABLES!!!"
   ]
  },
  {
   "cell_type": "code",
   "execution_count": null,
   "metadata": {},
   "outputs": [],
   "source": [
    "#wow. dead on"
   ]
  },
  {
   "cell_type": "markdown",
   "metadata": {},
   "source": [
    "How good is this? How closely does this match, or explain, the actual values? There are many ways of assessing how good one set of values agrees with another, which brings us to the subject of metrics."
   ]
  },
  {
   "cell_type": "code",
   "execution_count": null,
   "metadata": {},
   "outputs": [],
   "source": [
    "#\"How well does it explain the ACTUAL values?\" That is the question.\n",
    "\n",
    "#But also, this would only help us describe / learn the TRAINING data - NOT the TESTING DATA!!\n",
    "#may not tell us ANYTHING / may not be worth anything on the testing data!!!"
   ]
  },
  {
   "cell_type": "markdown",
   "metadata": {},
   "source": [
    "### 4.7.1 Metrics<a id='4.7.1_Metrics'></a>"
   ]
  },
  {
   "cell_type": "markdown",
   "metadata": {},
   "source": [
    "#### 4.7.1.1 R-squared, or coefficient of determination<a id='4.7.1.1_R-squared,_or_coefficient_of_determination'></a>"
   ]
  },
  {
   "cell_type": "markdown",
   "metadata": {},
   "source": [
    "One measure is $R^2$, the [coefficient of determination](https://en.wikipedia.org/wiki/Coefficient_of_determination). This is a measure of the proportion of variance in the dependent variable (our ticket price) that is predicted by our \"model\". The linked Wikipedia articles gives a nice explanation of how negative values can arise. This is frequently a cause of confusion for newcomers who, reasonably, ask how can a squared value be negative?\n",
    "\n",
    "Recall the mean can be denoted by $\\bar{y}$, where\n",
    "\n",
    "$$\\bar{y} = \\frac{1}{n}\\sum_{i=1}^ny_i$$\n",
    "\n",
    "and where $y_i$ are the individual values of the dependent variable.\n",
    "\n"
   ]
  },
  {
   "cell_type": "code",
   "execution_count": null,
   "metadata": {},
   "outputs": [],
   "source": [
    "#aight so this is just the average price: the sum of the individual prices divided by the number of prices"
   ]
  },
  {
   "cell_type": "markdown",
   "metadata": {},
   "source": [
    "The total sum of squares (error), can be expressed as\n",
    "\n",
    "$$SS_{tot} = \\sum_i(y_i-\\bar{y})^2$$\n",
    "\n",
    "The above formula should be familiar as it's simply the variance without the denominator to scale (divide) by the sample size.\n"
   ]
  },
  {
   "cell_type": "code",
   "execution_count": null,
   "metadata": {},
   "outputs": [],
   "source": [
    "#right! cuz the variance is the 'average squared difference (with the mean/between the actual values and the mean)'\n",
    "#so okay we call this 'sum of squares'\n",
    "#so this is just the TOTAL or SUM OF the squared differences of/between the actual values and the average value!!!"
   ]
  },
  {
   "cell_type": "markdown",
   "metadata": {},
   "source": [
    "The residual sum of squares is similarly defined to be\n",
    "\n",
    "$$SS_{res} = \\sum_i(y_i-\\hat{y})^2$$\n",
    "\n",
    "where $\\hat{y}$ are our predicted values for the depended variable.\n",
    "\n"
   ]
  },
  {
   "cell_type": "code",
   "execution_count": null,
   "metadata": {},
   "outputs": [],
   "source": [
    "#not sure why they wen't w/ 'residual' ... maybe because even w/ the best prediction there will inevitably still be\n",
    "#SOME difference w/ the actual values, some 'residual'\n",
    "#so this is the total sum of the squared differences between the ACTUAL AND PREDICTED >> so that 'variance',\n",
    "#although not literally / technically variance >> we can call this varia*TION*!"
   ]
  },
  {
   "cell_type": "markdown",
   "metadata": {},
   "source": [
    "The coefficient of determination, $R^2$, here is given by\n",
    "\n",
    "$$R^2 = 1 - \\frac{SS_{res}}{SS_{tot}}$$\n"
   ]
  },
  {
   "cell_type": "code",
   "execution_count": null,
   "metadata": {},
   "outputs": [],
   "source": [
    "#nice this is what i said!! except i didn't do the 1 - ...\n",
    "\n",
    "#so this is your predicted variance vs your actual\n",
    "\n",
    "#and is lower better (just looking at the ratio itself for a moment; not looking at the 1 -)? Well a perfect model\n",
    "#would exactly predict the actuals, so there WOULD BE no residual error/variance! thus SSres/the numerator would be 0!\n",
    "\n",
    "#and then theoretically there's no limit to how *bad* your prediction could be, so the sky is the limit for the numerator\n",
    "\n",
    "#so why the 1 - ?\n",
    "\n",
    "#that would just give us the balance/complement\n",
    "\n",
    "#so the ratio by itself is predicted variance over actual variance\n",
    "#so let's say the actual variance was 100, and the prediction brought it down to 10\n",
    "#so that ratio is 10/100, or .1\n",
    "#.1 is the portion of the variance predicted by our model\n",
    "#that's the definition for R^2 then isn't it? so why the 1 -?\n",
    "#1 - here would make our R2 = .9\n",
    "#so 90% of the variance is predicted by the model\n",
    "\n",
    "#well it looks like the 1 - minussing makes the r2 high when it's good\n",
    "#so let's think about that\n",
    "#so we know being able to have a predicted variance of just 1/10th of the actual is extremely good\n",
    "#so does the 90% mean it was simply 90% accurate in predicting the actuals? but isn't there a more direct way to do that?\n",
    "\n",
    "#so if the prediction results in only 10% variance compared to the original\n",
    "\n",
    "\n",
    "######################################################################################################################\n",
    "#AHHHHH okay i figured it out aH\n",
    "\n",
    "#so this ratio of predicted variation over actual, so that's telling us what portion of variance there STILL IS!!!\n",
    "#so it's stupid / misleading when it's said \"how much of the variance is \"DESCRIBED\" and that's why i got confused\n",
    "#this is what they mean - how much did the prediction improve, ameliorate, close the gap, RECONCILE the variance!!!\n",
    "\n",
    "#it's NOT literally \"WHAT PERCENT OF THE ACTUAL VARIANCE IS THE PREDICTED VARIANCE\" like they make it out to be / lead\n",
    "#you to believe. cuz then yeah, if your model was perfect and had ZER0 variance, then that ratio alone would be 0. and\n",
    "#yes 0 would mean/sound like it \"describes\" 0% of the variance. but the answer is 100%, because what they really mean is\n",
    "#this prediction is perfect and thus accounts for / closes ***100%*** of the variance/gap!!!\n",
    "\n",
    "\n",
    "#so likewise if the prediction is 30 and the actual was 100. then the prediction still has 30% variance remaining but\n",
    "#eliminated / reduced / fixed / scraped away 70% of it! and THAT'S what we wanna know!: how much / what percentage of\n",
    "#the original variance did the prediction ELIMINATE!\n",
    "\n",
    "#why couldn't they just use easy straightforward simple language and just say that???\n"
   ]
  },
  {
   "cell_type": "code",
   "execution_count": null,
   "metadata": {},
   "outputs": [],
   "source": [
    "#so in this sense 'residual' variance makes sense. it's how much variance is left after the prediction / line / fit\n",
    "#and so that over the total is the PORTION/PERCENTAGE OF RESIDUAL VARIANCE / VARIANCE REMAINING!!!\n",
    "\n",
    "#and so 1 - that is the PORTION OF VARIANCE ELIMINATED BY THE PREDICTION! so that's the metric we wanna focus on\n",
    "#cuz it tells us directly how much work/good the prediction DID rather than focusing on what it DIDN'T DO!!!\n",
    "#think positive lol not negative"
   ]
  },
  {
   "cell_type": "markdown",
   "metadata": {},
   "source": [
    "Putting it into words, it's one minus the ratio of the residual variance to the original variance. Thus, the baseline model here, which always predicts $\\bar{y}$, should give $R^2=0$. A model that perfectly predicts the observed values would have no residual error and so give $R^2=1$. Models that do worse than predicting the mean will have increased the sum of squares of residuals and so produce a negative $R^2$."
   ]
  },
  {
   "cell_type": "code",
   "execution_count": null,
   "metadata": {},
   "outputs": [],
   "source": [
    "#r2 = 0 means the model didn't improve upon the actual AT ALL, that it literally has the EXACT SAME VARIANCE as\n",
    "#the training. and since the equation for variation for the actual / original data is the differences w/ the MEAN,\n",
    "#then a model that predicted the same exact thing would be ONE THAT USED THE MEAN AS THE PREDICTION FOR ALL THE / EVERY\n",
    "#SINGLE POINT!!! because the definition for the second one / the prediction variance is difference between the\n",
    "#predicted value and the actual, so if the predicted value IS THE MEAN, then it's the same definition as the original!!!!\n",
    "#difference between the MEAN and the actual!!!!!"
   ]
  },
  {
   "cell_type": "code",
   "execution_count": null,
   "metadata": {},
   "outputs": [],
   "source": [
    "#Code task 6#\n",
    "#Calculate the R^2 as defined above\n",
    "\n",
    "#okay so that's 1 - predicted variance / actual variance\n",
    "\n",
    "#it takes as the two arguments - (1) the training y's, and (2) the predicted y's\n",
    "def r_squared(y, ypred):\n",
    "    \"\"\"R-squared score.\n",
    "    \n",
    "    Calculate the R-squared, or coefficient of determination, of the input.\n",
    "    \n",
    "    Arguments:\n",
    "    y -- the observed (actual) values\n",
    "    ypred -- the predicted values\n",
    "    \"\"\"\n",
    "    #remember for context, when we say y we're talking about PRICES of tickets (\"AdultWeekend\")\n",
    "    #for ski resorts in America!\n",
    "    \n",
    "    #average y: sum of all actual y's divided by the number of y's\n",
    "    ybar = np.sum(y) / len(y) #yes, we could use np.mean(y)\n",
    "    #or could use y.mean()\n",
    "    \n",
    "    #total/sum of the squared differences b/w average\n",
    "    sum_sq_res = np.sum((y - ypred)**2) #residual sum of squares error\n",
    "    sum_sq_tot = np.sum((y - ybar)**2) #total sum of squares error\n",
    "    \n",
    "    #then we do 1 - the quotient of these 2!\n",
    "    R2 = 1.0 - sum_sq_res / sum_sq_tot\n",
    "    return R2"
   ]
  },
  {
   "cell_type": "markdown",
   "metadata": {},
   "source": [
    "Make your predictions by creating an array of length the size of the training set with the single value of the mean."
   ]
  },
  {
   "cell_type": "code",
   "execution_count": null,
   "metadata": {},
   "outputs": [],
   "source": [
    "#okay so now we're gonna make our prediction of y_test and see what our r2 comes out to using the function we just made\n",
    "#so we're gonna predict y_test simply by saying all the y_test's are gonna be equal to the average of y_train!\n",
    "#and like we said above, this is gonna make for the exact same variation as y_train, thus our r2 will be 0, i.e./a.k.a.\n",
    "#our prediction didn't do jack to help improve the variation"
   ]
  },
  {
   "cell_type": "code",
   "execution_count": null,
   "metadata": {},
   "outputs": [],
   "source": [
    "y_tr_pred_ = train_mean * np.ones(len(y_train))\n",
    "y_tr_pred_[:5]"
   ]
  },
  {
   "cell_type": "code",
   "execution_count": null,
   "metadata": {},
   "outputs": [],
   "source": [
    "#this is literally just copying and pasting / duplicating / dragging the singular mean down into a whole column!\n",
    "#by multiplying it by a bunch of / columns of 1's, or rather, multiplying a column of 1's by that one value to convert\n",
    "#all ones to train_mean :D"
   ]
  },
  {
   "cell_type": "code",
   "execution_count": null,
   "metadata": {},
   "outputs": [],
   "source": [
    "#this is literally just copying and pasting / duplicating / dragging the singular mean down into a whole column!\n",
    "#by multiplying it by a bunch of / columns of 1's, or rather, multiplying a column of 1's by that one value to convert\n",
    "#all ones to train_mean :D"
   ]
  },
  {
   "cell_type": "code",
   "execution_count": null,
   "metadata": {},
   "outputs": [],
   "source": [
    "                                  \n",
    "#this will return us the first 5 elements of this array\n",
    "#oh yeah so technically above wasn't a 'column' it's a ROW because it's an ARRAY! yes, it is! (joke cuz 'array' means no)\n",
    "#this is like how you'd do a \".head()\" preview of an array list!\n",
    "\n",
    "y_tr_pred_[:5]"
   ]
  },
  {
   "cell_type": "code",
   "execution_count": null,
   "metadata": {},
   "outputs": [],
   "source": [
    "#no surprise - it's all the same number!"
   ]
  },
  {
   "cell_type": "markdown",
   "metadata": {},
   "source": [
    "Remember the `sklearn` dummy regressor?"
   ]
  },
  {
   "cell_type": "code",
   "execution_count": null,
   "metadata": {},
   "outputs": [],
   "source": [
    "y_tr_pred = dumb_reg.predict(X_train)\n",
    "y_tr_pred[:5]"
   ]
  },
  {
   "cell_type": "code",
   "execution_count": null,
   "metadata": {},
   "outputs": [],
   "source": [
    "#oh yeah! this is the same number that was predicted above because we just predicted it to be the mean! set the strategy\n",
    "#as 'mean'\n",
    "#but also, we got this number already earlier when we did the 'constant_' attribute\n",
    "\n",
    "#at first i was confused like why are we using X_train / the x-values, similar to what i said above,\n",
    "#when for this case our y values are being predicted SOLELY ON THE Y-VALUES THEMSELVES!!! NOT THEIR RELATIONSHIP W/\n",
    "#the x's! but again, in reality that's exactly what real prediction is! a function of the independent variables!\n",
    "#so/thus we need to call on the x-set; we fit a model by inputting the x-set so it's attached to that. so when we wanna\n",
    "#call on predict, we're saying, hey, based off of this set of x, can you predict the y?"
   ]
  },
  {
   "cell_type": "markdown",
   "metadata": {},
   "source": [
    "You can see that `DummyRegressor` produces exactly the same results and saves you having to mess about broadcasting the mean (or whichever other statistic we used - check out the [documentation](https://scikit-learn.org/stable/modules/generated/sklearn.dummy.DummyRegressor.html) to see what's available) to an array of the appropriate length. It also gives you an object with `fit()` and `predict()` methods as well so you can use them as conveniently as any other `sklearn` estimator."
   ]
  },
  {
   "cell_type": "code",
   "execution_count": null,
   "metadata": {
    "scrolled": false
   },
   "outputs": [],
   "source": [
    "#and now let's confirm that the r2 is 0, aka the prediction variation is the same as the original\n",
    "\n",
    "#so we have our two arguments - the training y's & the predicted y's\n",
    "#for the training y's, it doesn't matter here what the x's were; we're only interested in the variation between the\n",
    "#actual y's and the their average, and then in the second variation / resid variation, between the actual y's and the\n",
    "#predicted. they y_tr_pred didn't have to factor in the x's in this case, like we coulda used the straight set / array\n",
    "#of y-train-mean, but we're keeping it official/professional/profficianal\n",
    "#cuz to use the dummy regressor we needa do in terms of X_train. this has it baked in for us\n",
    "r_squared(y_train, y_tr_pred)"
   ]
  },
  {
   "cell_type": "code",
   "execution_count": null,
   "metadata": {},
   "outputs": [],
   "source": [
    "#confirmed!"
   ]
  },
  {
   "cell_type": "markdown",
   "metadata": {},
   "source": [
    "Exactly as expected, if you use the average value as your prediction, you get an $R^2$ of zero _on our training set_. What if you use this \"model\" to predict unseen values from the test set? Remember, of course, that your \"model\" is trained on the training set; you still use the training set mean as your prediction."
   ]
  },
  {
   "cell_type": "markdown",
   "metadata": {},
   "source": [
    "Make your predictions by creating an array of length the size of the test set with the single value of the (training) mean."
   ]
  },
  {
   "cell_type": "code",
   "execution_count": null,
   "metadata": {},
   "outputs": [],
   "source": [
    "#okay, so just as above, where y_TRAIN_pred equals the array of constant train_mean\n",
    "#the TEST prediction will also be an array / single row of just the average training y -> train_mean\n",
    "#only difference is that we're making the array size the size of the TEST data rather than the training\n",
    "\n",
    "#because what's gonna happen is now we're gonna repeat this same process and see how it works for the TEST data:\n",
    "#see the variance between the original test values and ***THE TRAINING'S AVERAGE, **NOT** THE TEST'S AVERAGE,***\n",
    "#otherwise that's just gonna literally repeat what we just did and get us the exact same 0 R2 result\n",
    "#so we're gonna compare the residual variance between the test values and the prediction which is the training average\n",
    "#and compare it to the original variance between the test values and the test average (THERE'S where the test average\n",
    "#prices come into play!)\n",
    "\n",
    "#variance b/w test prices and training price average\n",
    "#____________________________________________________\n",
    "#variance b/w test prices and test price average\n",
    "\n",
    "#SO LET'S SEE IF USING THE TRAINING PRICE AVERAGE HELPED THE VARIANCE / WAS USEFUL AS A PREDICTOR!\n",
    "#so isn't that ANY R2 under 1, and greater than 0 is an IMPROVEMENT at least, i.e. it REDUCED the variation\n",
    "#R2 = 1.0 is PERFECT cuz that means it ELIMINATED ALL / 100% OF THE VARIATION - THERE *IS* NO RESIDUAL VARIATION LEFT!\n",
    "#and R2 = 0 is more like the \"break-even\", i.e. the prediction made 0 improvement - still has just as much variation\n",
    "#as the original\n",
    "#and when R2 is NEGATIVE, that means it's WORSE than the original! DISimproved the variation!! means the new prediction\n",
    "#variance is more than the original!\n",
    "\n",
    "\n",
    "y_te_pred = train_mean * np.ones(len(y_test))\n",
    "\n",
    "#NOTICE that it's taking the TRAINING mean once again and NOT the TEST MEAN! that's because remem we're using the\n",
    "#mean of the training data as our prediction. that prediction goes for our training set as well as our test\n",
    "#and actually, the doing it on the training set was really just to get practice using it and show it how it works\n",
    "#obviously it doesn't benefit us at all / give us any insight in the way of improving the variation / fitting / predicting\n",
    "#because it's literally just replicating the same data\n",
    "\n",
    "#where it really comes into play is here - we're seeing how good using the simple MEAN of the training prices is to\n",
    "#predict the test prices, and our measure of success is how much it improves the variance\n",
    "\n",
    "\n",
    "#okay so our r-squared function is taking as its argument for the two lists: (1) the y_test data,\n",
    "#which we haven't seen in a while but we defined WAY back in the beginning as just the remaining list of y-values, i.e.\n",
    "#PRICES that we saved for/as our test set\n",
    "#and (2), our \"predicted\" values which, again, are the AVERAGE of the training\n",
    "r_squared(y_test, y_te_pred)"
   ]
  },
  {
   "cell_type": "code",
   "execution_count": null,
   "metadata": {},
   "outputs": [],
   "source": [
    "#ouch. so we actually very slightly *hurt* our variation, did worse than our original using simple training average\n",
    "#as the prediction, but basically broke even / it's the same"
   ]
  },
  {
   "cell_type": "markdown",
   "metadata": {},
   "source": [
    "Generally, you can expect performance on a test set to be slightly worse than on the training set. As you are getting an $R^2$ of zero on the training set, there's nowhere to go but negative!"
   ]
  },
  {
   "cell_type": "code",
   "execution_count": null,
   "metadata": {},
   "outputs": [],
   "source": [
    "#hmmm interesting. let's understand that. so the training set let's us break even exactly because we're literally just\n",
    "#replicating the values essentially - there's no improvement\n",
    "#so there's NO WAY our simple mean training value prediction can be better on the TEST set that it's not even at least\n",
    "#matching the average of! so yes of course it's gonna be at least a little worse!"
   ]
  },
  {
   "cell_type": "markdown",
   "metadata": {},
   "source": [
    "$R^2$ is a common metric, and interpretable in terms of the amount of variance explained, it's less appealing if you want an idea of how \"close\" your predictions are to the true values. Metrics that summarise the difference between predicted and actual values are _mean absolute error_ and _mean squared error_."
   ]
  },
  {
   "cell_type": "code",
   "execution_count": null,
   "metadata": {},
   "outputs": [],
   "source": [
    "#true, so r2 tells you about variance, but doesn't actually tell you about how close your predictions are to the\n",
    "#actual values. the best fit line is obtained by minimizing the total squared difference to the line (variation), or\n",
    "#the average squared difference (variance) - both would give you the same\n",
    "\n",
    "#r2 gives you the variation, which is just like variance. and variation/variance is used to determine best fit line\n",
    "#by minimizing those. so then doesn't that mean it should be the best predictor?? bc the best predictor is the one\n",
    "#that minimizes the variation. so isn't that the same definition? the best fit/predictor line is the same thing as\n",
    "#tryna predict, and in both you're minimizing the variation/variance - so aren't the best/closest predictions what you'd\n",
    "#get w/ the best fit line?"
   ]
  },
  {
   "cell_type": "markdown",
   "metadata": {},
   "source": [
    "#### 4.7.1.2 Mean Absolute Error<a id='4.7.1.2_Mean_Absolute_Error'></a>"
   ]
  },
  {
   "cell_type": "markdown",
   "metadata": {},
   "source": [
    "This is very simply the average of the absolute errors:\n",
    "\n",
    "$$MAE = \\frac{1}{n}\\sum_i^n|y_i - \\hat{y}|$$"
   ]
  },
  {
   "cell_type": "code",
   "execution_count": null,
   "metadata": {},
   "outputs": [],
   "source": [
    "#okay so rather than looking at the SQUARED error - average or total - we're looking at just ABSOLUTE difference between\n",
    "#the predicted values and the actual values\n",
    "\n",
    "#Code task 7#\n",
    "#Calculate the MAE as defined above\n",
    "def mae(y, ypred):\n",
    "    \"\"\"Mean absolute error.\n",
    "    \n",
    "    Calculate the mean absolute error of the arguments\n",
    "\n",
    "    Arguments:\n",
    "    y -- the observed/actual values\n",
    "    ypred -- the predicted values\n",
    "    \"\"\"\n",
    "    abs_error = np.abs(y - ypred)   #so the ypred is what we're gonna feed it / tell it is the predicted y's\n",
    "    mae = np.mean(abs_error)        #which is our y_tr_pred & y_te_pred\n",
    "    return mae"
   ]
  },
  {
   "cell_type": "code",
   "execution_count": null,
   "metadata": {},
   "outputs": [],
   "source": [
    "#the average absolute difference between the predicted values and the actual training values/prices\n",
    "#and, again, the predicted values are simply the average of the training prices\n",
    "mae(y_train, y_tr_pred)"
   ]
  },
  {
   "cell_type": "code",
   "execution_count": null,
   "metadata": {},
   "outputs": [],
   "source": [
    "#so this would be your average absolute difference between predicted prices (average training) and actual prices\n",
    "#if you tried predicting training prices based on average price of the training\n",
    "\n",
    "#r2 is the portion amount of reconciled variation of predicted(average)/actuals over actuals/average\n",
    "#mae is the average absolute difference between predicted prices (average) and actual prices\n",
    "#so why was r2 = 0 when we did on training? cuz "
   ]
  },
  {
   "cell_type": "code",
   "execution_count": null,
   "metadata": {
    "scrolled": true
   },
   "outputs": [],
   "source": [
    "#the average absolute difference between the predicted values and the actual test values/prices\n",
    "#and, again, the predicted values are simply the average of the training prices\n",
    "mae(y_test, y_te_pred)"
   ]
  },
  {
   "cell_type": "code",
   "execution_count": null,
   "metadata": {},
   "outputs": [],
   "source": [
    "#so does it make sense that the test variance would be more? I guess so, because the prediction based on its own\n",
    "#average is gonna have to be better / more accurate than using that SAME average of a different data set on a\n",
    "#different data set"
   ]
  },
  {
   "cell_type": "markdown",
   "metadata": {},
   "source": [
    "Mean absolute error is arguably the most intuitive of all the metrics, this essentially tells you that, on average, you might expect to be off by around \\\\$19 if you guessed ticket price based on an average of known values."
   ]
  },
  {
   "cell_type": "markdown",
   "metadata": {},
   "source": [
    "#### 4.7.1.3 Mean Squared Error<a id='4.7.1.3_Mean_Squared_Error'></a>"
   ]
  },
  {
   "cell_type": "markdown",
   "metadata": {},
   "source": [
    "Another common metric (and an important one internally for optimizing machine learning models) is the mean squared error. This is simply the average of the square of the errors:\n",
    "\n",
    "$$MSE = \\frac{1}{n}\\sum_i^n(y_i - \\hat{y})^2$$"
   ]
  },
  {
   "cell_type": "code",
   "execution_count": null,
   "metadata": {},
   "outputs": [],
   "source": [
    "#so isn't mean squared error just variance? population variance at least\n",
    "\n",
    "#so whereas MAE was average absolute difference, MSE is average SQUARED difference\n",
    "\n",
    "#and vs variation which was the TOTAL squared difference\n",
    "\n",
    "#is there any metric for the total ABSOLUTE difference?\n",
    "\n",
    "#cuz there's total and average squared difference\n",
    "\n",
    "\n",
    "#oh wait, so maybe the differences are this:\n",
    "\n",
    "#variance/variation/standard deviation have to do with the DIFFERENCES BETWEEN THE POPULATION AND THEIR OWN MEAN!!!\n",
    "\n",
    "#whereas mae, mse, rms are the differences between the predicted values and the original values!\n",
    "\n",
    "#so it's a matter of comparing all values with ONE value\n",
    "#vs\n",
    "#comparing all values to ANOTHER SET of values"
   ]
  },
  {
   "cell_type": "code",
   "execution_count": null,
   "metadata": {
    "scrolled": true
   },
   "outputs": [],
   "source": [
    "#Code task 8#\n",
    "#Calculate the MSE as defined above\n",
    "def mse(y, ypred):\n",
    "    \"\"\"Mean square error.\n",
    "    \n",
    "    Calculate the mean square error of the arguments\n",
    "\n",
    "    Arguments:\n",
    "    y -- the observed values\n",
    "    ypred -- the predicted values\n",
    "    \"\"\"\n",
    "    #the squared difference b/w the predicted y's and actual y's\n",
    "    #this takes two lists - one of each\n",
    "    #and so does this calculation for every pair in the list\n",
    "    #and then makes a new resultant list: sq_error\n",
    "    #and then we reduce / summarize that whole list down to one summary statistic/metric - the mean of that\n",
    "    #aka the *'mean squared error'*! aka mse!\n",
    "    sq_error = (ypred - y)**2\n",
    "    mse = np.mean(sq_error)\n",
    "    return mse"
   ]
  },
  {
   "cell_type": "code",
   "execution_count": null,
   "metadata": {},
   "outputs": [],
   "source": [
    "#the mean squared error of the actual y's in the training set vs the predicted y's for the training set (average of\n",
    "#training y's)\n",
    "mse(y_train, y_tr_pred)"
   ]
  },
  {
   "cell_type": "code",
   "execution_count": null,
   "metadata": {},
   "outputs": [],
   "source": [
    "#is that what we'd expect? i guess this should just be the square of mAe right?:\n",
    "mae(y_train, y_tr_pred) ** 2"
   ]
  },
  {
   "cell_type": "code",
   "execution_count": null,
   "metadata": {},
   "outputs": [],
   "source": [
    "#hmm okay i guess not\n",
    "\n",
    "#so let's think again, what is this - mse\n",
    "#mean squared error is the average squared difference between the predictions and the actuals\n",
    "#mean absolute error is the average absolute difference between the predictions and the actuals\n",
    "#well i guess it just doesn't work out that way\n",
    "#if you're taking the average of absolute differences and average of squared differences,\n",
    "#then you can't expect that the average of the SQUARED differences will be the square of the average absolute differences!\n",
    "#is there any relationship though? maybe for another time\n",
    "#i guess not though bec the issue comes that you're SUMMING them all together and that throws everything off\n",
    "\n",
    "#okay so if we're making the prediction as the average and comparing the actuals to it, isn't it like we're comparing\n",
    "#the actuals to themselves? cuz like when we have the average of a set, we can just treat the whole set / every member\n",
    "#of the set like it's the average. so if we're taking the average difference between the average and the actuals, then\n",
    "#wouldn't that average difference just be 0?\n",
    "\n",
    "#oh maybe if we did NON-absolute!\n",
    "\n",
    "\n",
    "def mnae(y, ypred):\n",
    "    \"\"\"Mean absolute error.\n",
    "    \n",
    "    Calculate the mean absolute error of the arguments\n",
    "\n",
    "    Arguments:\n",
    "    y -- the observed/actual values\n",
    "    ypred -- the predicted values\n",
    "    \"\"\"\n",
    "    nonabs_error = y - ypred   #so the ypred is what we're gonna feed it / tell it is the predicted y's\n",
    "    mnae = np.mean(nonabs_error)        #which is our y_tr_pred & y_te_pred\n",
    "    return mnae\n",
    "\n",
    "mnae(y_train, y_tr_pred)\n",
    "\n",
    "#aH yepp! you got it! it would just be 0!"
   ]
  },
  {
   "cell_type": "code",
   "execution_count": null,
   "metadata": {},
   "outputs": [],
   "source": [
    "#and how about the average squared difference?\n",
    "#oh wait, that's taking absolute difference again, so no, wouldn't be 0, cuz will always be positive! never negative"
   ]
  },
  {
   "cell_type": "code",
   "execution_count": null,
   "metadata": {},
   "outputs": [],
   "source": [
    "#mean squared error of our TEST set\n",
    "mse(y_test, y_te_pred)"
   ]
  },
  {
   "cell_type": "code",
   "execution_count": null,
   "metadata": {},
   "outputs": [],
   "source": [
    "#hunh, that's weird. so the the mse was actually LESS on the test set than on the training? whereas the mAe was\n",
    "#more for the test\n",
    "#why would the squared error be less for the test set, but the absolute error was more?\n",
    "#because the training is comparing the average of the training prices to the individual training prices themselves,\n",
    "#whereas the test is comparing the average of the TRAINING prices to the individual test prices,\n",
    "#so how could the test prices be closer to the training prices THAN THE TRAINING PRICES???"
   ]
  },
  {
   "cell_type": "markdown",
   "metadata": {},
   "source": [
    "So here, you get a slightly better MSE on the test set than you did on the train set. And what does a squared error mean anyway? To convert this back to our measurement space, we often take the square root, to form the _root mean square error_ thus:"
   ]
  },
  {
   "cell_type": "code",
   "execution_count": null,
   "metadata": {},
   "outputs": [],
   "source": [
    "#ROOT MEAN SQUARE! i always hear about this. so it's simply the SQUARE ROOT of the average squared difference"
   ]
  },
  {
   "cell_type": "code",
   "execution_count": null,
   "metadata": {},
   "outputs": [],
   "source": [
    "#writing it this way simply gives us two things/outputs at once:\n",
    "#the rms of the training set vs. the rms of the test set\n",
    "np.sqrt([mse(y_train, y_tr_pred), mse(y_test, y_te_pred)])"
   ]
  },
  {
   "cell_type": "code",
   "execution_count": null,
   "metadata": {},
   "outputs": [],
   "source": [
    "#so when you look at it like this, it's basically identical! closes the gaps, warps it down"
   ]
  },
  {
   "cell_type": "markdown",
   "metadata": {},
   "source": [
    "### 4.7.2 sklearn metrics<a id='4.7.2_sklearn_metrics'></a>"
   ]
  },
  {
   "cell_type": "markdown",
   "metadata": {},
   "source": [
    "Functions are good, but you don't want to have to define functions every time we want to assess performance. `sklearn.metrics` provides many commonly used metrics, included the ones above."
   ]
  },
  {
   "cell_type": "code",
   "execution_count": null,
   "metadata": {},
   "outputs": [],
   "source": [
    "#nice, so rather than define our own functions, use the built-in ones from slickitlearn!\n",
    "#but it's good that we did it manually to get that practice!"
   ]
  },
  {
   "cell_type": "markdown",
   "metadata": {},
   "source": [
    "##### 4.7.2.0.1 R-squared<a id='4.7.2.0.1_R-squared'></a>"
   ]
  },
  {
   "cell_type": "code",
   "execution_count": null,
   "metadata": {},
   "outputs": [],
   "source": [
    "r2_score(y_train, y_tr_pred), r2_score(y_test, y_te_pred)"
   ]
  },
  {
   "cell_type": "markdown",
   "metadata": {},
   "source": [
    "##### 4.7.2.0.2 Mean absolute error<a id='4.7.2.0.2_Mean_absolute_error'></a>"
   ]
  },
  {
   "cell_type": "code",
   "execution_count": null,
   "metadata": {},
   "outputs": [],
   "source": [
    "mean_absolute_error(y_train, y_tr_pred), mean_absolute_error(y_test, y_te_pred)"
   ]
  },
  {
   "cell_type": "markdown",
   "metadata": {},
   "source": [
    "##### 4.7.2.0.3 Mean squared error<a id='4.7.2.0.3_Mean_squared_error'></a>"
   ]
  },
  {
   "cell_type": "code",
   "execution_count": null,
   "metadata": {},
   "outputs": [],
   "source": [
    "mean_squared_error(y_train, y_tr_pred), mean_squared_error(y_test, y_te_pred)"
   ]
  },
  {
   "cell_type": "code",
   "execution_count": null,
   "metadata": {},
   "outputs": [],
   "source": [
    "#ok wait so all these above metrics are simply called like that?"
   ]
  },
  {
   "cell_type": "markdown",
   "metadata": {},
   "source": [
    "### 4.7.3 Note On Calculating Metrics<a id='4.7.3_Note_On_Calculating_Metrics'></a>"
   ]
  },
  {
   "cell_type": "markdown",
   "metadata": {},
   "source": [
    "When calling functions to calculate metrics, it is important to take care in the order of the arguments. Two of the metrics above actually don't care if the arguments are reversed; one does. Which one cares?"
   ]
  },
  {
   "cell_type": "code",
   "execution_count": null,
   "metadata": {},
   "outputs": [],
   "source": [
    "#maybe r2 because r2 uses predicted variation / original variation, so it takes 2 args - predicted and actuals\n",
    "#thus IT NEEDS TO KNOW WHICH ONE IS THE PREDICTED AND WHICH IS THE ACTUAL!\n",
    "#because it's gonna do variance of predicted vs actuals over variance of actuals vs their average"
   ]
  },
  {
   "cell_type": "code",
   "execution_count": null,
   "metadata": {},
   "outputs": [],
   "source": [
    "#so let's switch it up and see what happens:"
   ]
  },
  {
   "cell_type": "code",
   "execution_count": null,
   "metadata": {},
   "outputs": [],
   "source": [
    "r2_score(y_tr_pred, y_train), r2_score(y_te_pred, y_test)"
   ]
  },
  {
   "cell_type": "code",
   "execution_count": null,
   "metadata": {
    "scrolled": true
   },
   "outputs": [],
   "source": [
    "mean_absolute_error(y_tr_pred, y_train)"
   ]
  },
  {
   "cell_type": "code",
   "execution_count": null,
   "metadata": {},
   "outputs": [],
   "source": [
    "mean_squared_error(y_tr_pred, y_train)"
   ]
  },
  {
   "cell_type": "code",
   "execution_count": null,
   "metadata": {},
   "outputs": [],
   "source": [
    "#oh wow! ok so the second 2 are EXACTLY the same, but the first one, r2, is COMPLETELY different! it's a GIGANTIC\n",
    "#NUMBER!!! so were right that order matters here\n",
    "#the reason why it's gigantic is because the denominator becomes switched to be diff b/w predicted values, which\n",
    "#is just the training values' average, and the predicted values' average, which of course is the same number\n",
    "#so of course the denominator is gonna be 0 - so shouldn't that raise a divide by 0 error??\n",
    "\n",
    "#maybe instead of raising a divide by 0 error, it just treats it as a really small number, making the quotient\n",
    "#a really huge number, making 1 minus that number a hugely negative number?\n",
    "#but then the same thing should happen for the other scenario - incorrect order for r2 sicklitearn function on test -\n",
    "#but that just evaluates to 0\n",
    "\n",
    "#but as we see below, a div/0 error IS raised but for some reason ONLY in one of the four incorrect configuration\n",
    "#situations - when we use our homebrew function for test set.... thought they should all 4 be div/0 errors\n",
    "\n",
    "#cuz/and then r2 for test should be the same situation that ends in divide by 0 because its denominator is also gonna be,\n",
    "#when slated in the incorrect order, the variation between the predicted values, which are simply the training avg,\n",
    "#thus they're all the same one number, and the average of those numbers, which of course is the same number, thus\n",
    "#the variation would be 0 there too!\n",
    "\n",
    "#i guess it's like how doing the percent change between 2 numbers is different depending on which one's the starting\n",
    "#and which is the ending. same thing here - you're seeing how much things changed relative to where they started\n",
    "\n",
    "\n",
    "#ahh okay, i just wrote it out and i see why it'd be different mathematically\n",
    "\n",
    "#so r2 has pred var over / orig var\n",
    "\n",
    "#the predicted var would be the same cuz it's just the SQUARED diff, thus it wouldn't matter if you mixed up orig\n",
    "#and pred, cuz the squared diff will be the same, will always be positive, order doesn't matter\n",
    "\n",
    "#but the DENOMINATOR is where the difference arises. it's supposed to be the variation of the originals with their own\n",
    "#average, so if you mix it up w/ predicted, it's gonna be the variation w/ THE PREDICTED'S AVERAGE! so of course\n",
    "#that's gonna give you a diff num"
   ]
  },
  {
   "cell_type": "markdown",
   "metadata": {},
   "source": [
    "In a Jupyter code cell, running `r2_score?` will bring up the docstring for the function, and `r2_score??` will bring up the actual code of the function! Try them and compare the source for `sklearn`'s function with yours. Feel free to explore what happens when you reverse the order of the arguments and compare behaviour of `sklearn`'s function and yours."
   ]
  },
  {
   "cell_type": "code",
   "execution_count": null,
   "metadata": {},
   "outputs": [],
   "source": [
    "#oh wow that's cool, i never knew jupyter had its own documentation! let's try:\n",
    "r2_score?"
   ]
  },
  {
   "cell_type": "code",
   "execution_count": null,
   "metadata": {},
   "outputs": [],
   "source": [
    "r2_score??"
   ]
  },
  {
   "cell_type": "code",
   "execution_count": null,
   "metadata": {},
   "outputs": [],
   "source": [
    "#so what's the difference between the single & double question marks?\n",
    "#they seem to give you essentially the same exact information/layout\n",
    "#ok but it does look like the ?? double gives you more details/info"
   ]
  },
  {
   "cell_type": "code",
   "execution_count": null,
   "metadata": {},
   "outputs": [],
   "source": [
    "mean_squared_error?"
   ]
  },
  {
   "cell_type": "code",
   "execution_count": null,
   "metadata": {},
   "outputs": [],
   "source": [
    "mean_absolute_error?"
   ]
  },
  {
   "cell_type": "code",
   "execution_count": null,
   "metadata": {},
   "outputs": [],
   "source": [
    "# train set - sklearn\n",
    "# correct order, incorrect order\n",
    "r2_score(y_train, y_tr_pred), r2_score(y_tr_pred, y_train)"
   ]
  },
  {
   "cell_type": "code",
   "execution_count": null,
   "metadata": {},
   "outputs": [],
   "source": [
    "#okay homebrew & sklearn both give 0 when in correct order and both give this ginormous negative number when in wrong order\n",
    "#we'll try to see why below"
   ]
  },
  {
   "cell_type": "code",
   "execution_count": null,
   "metadata": {},
   "outputs": [],
   "source": [
    "# test set - sklearn\n",
    "# correct order, incorrect order\n",
    "r2_score(y_test, y_te_pred), r2_score(y_te_pred, y_test)"
   ]
  },
  {
   "cell_type": "code",
   "execution_count": null,
   "metadata": {},
   "outputs": [],
   "source": [
    "#sklearn & homebrew both give .003 when in correct order"
   ]
  },
  {
   "cell_type": "code",
   "execution_count": null,
   "metadata": {},
   "outputs": [],
   "source": [
    "# train set - using our homebrew function\n",
    "# correct order, incorrect order\n",
    "r_squared(y_train, y_tr_pred), r_squared(y_tr_pred, y_train)"
   ]
  },
  {
   "cell_type": "code",
   "execution_count": null,
   "metadata": {},
   "outputs": [],
   "source": [
    "#so what happens when we switch order?\n",
    "\n",
    "#remem, r_squared is:\n",
    "\n",
    "# def r_squared(y, ypred):\n",
    "#     \"\"\"R-squared score.\n",
    "    \n",
    "#     Calculate the R-squared, or coefficient of determination, of the input.\n",
    "    \n",
    "#     Arguments:\n",
    "#     y -- the observed values\n",
    "#     ypred -- the predicted values\n",
    "#     \"\"\"\n",
    "#     ybar = np.sum(y) / len(y) #yes, we could use np.mean(y)\n",
    "#     sum_sq_tot = np.sum((y - ybar)**2) #total sum of squares error\n",
    "#     sum_sq_res = np.sum((y - ypred)**2) #residual sum of squares error\n",
    "\n",
    "#so when we do r_squared(y_tr_pred, y_train),\n",
    "\n",
    "#y, aka y actuals = y_tr_pred, i.e. it thinks the actuals are the average training value\n",
    "#ypred = y_train, i.e. the ACTUAL original training values\n",
    "\n",
    "#so it becomes:\n",
    "\n",
    "yavg = np.sum(y_tr_pred) / len(y_tr_pred) #thus y_avg that will be used in denom is the average of the already\n",
    "#averaged set of one number, so it's just gonna be that same number that y_tr_pred is already composed of!\n",
    "\n",
    "\n",
    "#numerator\n",
    "sum_sq_resid = np.sum((y_tr_pred - y_train)**2) #residual sum of squares error\n",
    "#the sum of the squared differences between the average of the training values and the training values\n",
    "\n",
    "\n",
    "#denominator\n",
    "sum_sq_totes = np.sum((y_tr_pred - yavg)**2) #the sum of the squared diff b/w the average value and the average value,\n",
    "#i.e. 0!!!\n",
    "\n",
    "#r2\n",
    "r_sq = 1 - sum_sq_resid / sum_sq_totes\n",
    "\n",
    "r_sq"
   ]
  },
  {
   "cell_type": "code",
   "execution_count": null,
   "metadata": {},
   "outputs": [],
   "source": [
    "#whaaat okay well at least this means i calculated it right. but let's break it down further into components to see\n",
    "#what's doing it exactly!"
   ]
  },
  {
   "cell_type": "code",
   "execution_count": null,
   "metadata": {
    "scrolled": true
   },
   "outputs": [],
   "source": [
    "y_tr_pred[:5]"
   ]
  },
  {
   "cell_type": "code",
   "execution_count": null,
   "metadata": {},
   "outputs": [],
   "source": [
    "yavg"
   ]
  },
  {
   "cell_type": "code",
   "execution_count": null,
   "metadata": {},
   "outputs": [],
   "source": [
    "sum_sq_resid"
   ]
  },
  {
   "cell_type": "code",
   "execution_count": null,
   "metadata": {},
   "outputs": [],
   "source": [
    "sum_sq_totes"
   ]
  },
  {
   "cell_type": "code",
   "execution_count": null,
   "metadata": {},
   "outputs": [],
   "source": [
    "#hmm, okay, so the denom is what we'd expect, which was the harder part, and it's essentially 0\n",
    "#not sure why it isn't exactly\n",
    "#but that would explain why it's some a-hayuge number and also thus why we didn't get a divide/0 num\n",
    "\n",
    "#and the numerator is the same as it would be as if we did it the correct order"
   ]
  },
  {
   "cell_type": "code",
   "execution_count": null,
   "metadata": {},
   "outputs": [],
   "source": [
    "#so we don't even have to test the 'test' set (lol),\n",
    "#we know that the reason it gives the divide/0 error using our formula is because the denom actually DOES compute to\n",
    "#0. why it's different? not sure:\n",
    "\n",
    "\n",
    "yavg_test = np.sum(y_te_pred) / len(y_te_pred)\n",
    "sum_sq_totes_test = np.sum((y_te_pred - yavg_test)**2)\n",
    "sum_sq_totes_test"
   ]
  },
  {
   "cell_type": "code",
   "execution_count": null,
   "metadata": {},
   "outputs": [],
   "source": [
    "yavg_test"
   ]
  },
  {
   "cell_type": "code",
   "execution_count": null,
   "metadata": {},
   "outputs": [],
   "source": [
    "#ahh okay, here's our answer on why they don't evaluate the same. like yes, i'm right aH, they all SHOULD evaluate to\n",
    "#denom = 0 and throw a div/0 error, but for some reason, chotay motay decimals can be slightly different that changes\n",
    "#everything - makes the difference between something being ACTUALLY 0 and throwing a div/0 error vs saying the ANSWER\n",
    "#is 0 vs a insanely LARGE number as a result of the denominator being so small\n",
    "\n",
    "#so apparently the slickitlearn function, when it sees that the denominator is 0, it just turns the whole thing 0?\n",
    "#cuz its r2 function evaluates to 0, which would mean the quotient/ratio is **1**, cuz r2 = 1 - quotient\n",
    "\n",
    "#so idk how it converts a super small number to simply be the same as its numerator? but its as if it knows this should\n",
    "#really be 0 and thus a divideby/0 error and so it just overrides everything and calls the r2 0. cuz 0 means the\n",
    "#prediction didn't help at all, which i guess isn't exactly true if you mixed it up, it should be negative, but this\n",
    "#just ignores/avoids all that by just simply negating all of it and making it 0\n",
    "#because, if mixed up, the 'pred' var over the 'orig' var would be that it got worse because the ORIGINAL WAS PERFECT!!!\n",
    "#HAD 0 VARIATION!!! THUS IT WAS ALL DOWNHILL FROM THERE!!!\n",
    "#and actually that's why it actually makes sense that r2 would be a gigantic negative number because negative means you\n",
    "#made the variation worse so this would be true"
   ]
  },
  {
   "cell_type": "code",
   "execution_count": null,
   "metadata": {},
   "outputs": [],
   "source": [
    "#yeah so if you look in the docstring for r2? it does say i believe that its built in to default to 0 to avoid\n",
    "#a divide by 0 error / infinite"
   ]
  },
  {
   "cell_type": "code",
   "execution_count": null,
   "metadata": {},
   "outputs": [],
   "source": [
    "#same preds used for training\n",
    "y_te_pred[:5]"
   ]
  },
  {
   "cell_type": "code",
   "execution_count": null,
   "metadata": {},
   "outputs": [],
   "source": [
    "# test set - using our homebrew function\n",
    "# correct order, incorrect order\n",
    "r_squared(y_test, y_te_pred), r_squared(y_te_pred, y_test)"
   ]
  },
  {
   "cell_type": "code",
   "execution_count": null,
   "metadata": {},
   "outputs": [],
   "source": [
    "#yep because if we do the wrong order, denom in r2 equation will be 0!!! cuz getting variance of a set of values\n",
    "#that's all the same one value and comparing it TO THAT VALUE!!! thus 0 variation"
   ]
  },
  {
   "cell_type": "markdown",
   "metadata": {},
   "source": [
    "You can get very different results swapping the argument order. It's worth highlighting this because data scientists do this too much in the real world! Don't be one of them! Frequently the argument order doesn't matter, but it will bite you when you do it with a function that does care. It's sloppy, bad practice and if you don't make a habit of putting arguments in the right order, you will forget!\n",
    "\n",
    "Remember:\n",
    "* argument order matters,\n",
    "* check function syntax with `func?` in a code cell"
   ]
  },
  {
   "cell_type": "code",
   "execution_count": null,
   "metadata": {},
   "outputs": [],
   "source": [
    "#meaning the name of the function, any function, followed by a question mark"
   ]
  },
  {
   "cell_type": "markdown",
   "metadata": {},
   "source": [
    "## 4.8 Initial Models<a id='4.8_Initial_Models'></a>"
   ]
  },
  {
   "cell_type": "markdown",
   "metadata": {},
   "source": [
    "### 4.8.1 Imputing missing feature (predictor) values<a id='4.8.1_Imputing_missing_feature_(predictor)_values'></a>"
   ]
  },
  {
   "cell_type": "markdown",
   "metadata": {},
   "source": [
    "Recall when performing EDA, you imputed (filled in) some missing values in pandas. You did this judiciously for exploratory/visualization purposes. You left many missing values in the data. You can impute missing values using scikit-learn, but note that you should learn values to impute from a train split and apply that to the test split to then assess how well your imputation worked."
   ]
  },
  {
   "cell_type": "code",
   "execution_count": null,
   "metadata": {},
   "outputs": [],
   "source": [
    "#ahh okay, so when we have missing values, don't fill them all in at once\n",
    "#first split the data into training/test, and learn the training data to base the fill value on\n",
    "#and then see how good those fill values were based on performance of the test set\n",
    "\n",
    "#cuz remem, the basic idea is that:\n",
    "\n",
    "#we have a dataset\n",
    "#we use most of it to learn/train\n",
    "#we come up w/ a fit/model\n",
    "#then we see how well that model fits/predicts the remaining/un-before-seen test set\n",
    "\n",
    "\n",
    "#BUTTT - when you look below, we're just applying the same set of medians to both train & test - not the train w/ train\n",
    "#and test w/ test..."
   ]
  },
  {
   "cell_type": "markdown",
   "metadata": {},
   "source": [
    "#### 4.8.1.1 Impute missing values with median<a id='4.8.1.1_Impute_missing_values_with_median'></a>"
   ]
  },
  {
   "cell_type": "code",
   "execution_count": null,
   "metadata": {},
   "outputs": [],
   "source": [
    "#so we have diff ways/methods we can fill in unknown / missing values\n",
    "#can treat them as 0\n",
    "#can make them the average of the rest - kinda like how we used that as a basic predictor method\n",
    "#can use the median of the rest\n",
    "#etc"
   ]
  },
  {
   "cell_type": "markdown",
   "metadata": {},
   "source": [
    "There's missing values. Recall from your data exploration that many distributions were skewed. Your first thought might be to impute missing values using the median."
   ]
  },
  {
   "cell_type": "markdown",
   "metadata": {},
   "source": [
    "##### 4.8.1.1.1 Learn the values to impute from the train set<a id='4.8.1.1.1_Learn_the_values_to_impute_from_the_train_set'></a>"
   ]
  },
  {
   "cell_type": "code",
   "execution_count": null,
   "metadata": {
    "scrolled": true
   },
   "outputs": [],
   "source": [
    "# These are the values we'll use to fill in any missing values\n",
    "X_defaults_median = X_train.median()   #remember 'X_train' way back from the beginning? all the features / values\n",
    "X_defaults_median                      #columns to be used to predict price BESIDES of course price, and the training\n",
    "                                       #split portion of that"
   ]
  },
  {
   "cell_type": "code",
   "execution_count": null,
   "metadata": {},
   "outputs": [],
   "source": [
    "#ALHAMDULILLAH! EVERYTHING MATCHES!"
   ]
  },
  {
   "cell_type": "code",
   "execution_count": null,
   "metadata": {},
   "outputs": [],
   "source": [
    "#REMEMBER BY THE WAY - we DID delete out and rows that had missing PRICES!!! this is just talking about how to deal with\n",
    "#the missings in ALL THE OTHER COLUMNS!!!\n",
    "\n",
    "#and remem, the training and test sets split from the same, parent, unified set. so they BOTH have the same\n",
    "#columns/rows, i.e. no missing prices, and the x_train & x_test are both every feature but price,\n",
    "#and y_train & y_test are both price\n",
    "\n",
    "#so we're gonna try to see eventually how well we can fit a model to predict price based on the training data and see\n",
    "#how well that fares on the testing data! a fresh set / practice test not seen before to see how well it can really think\n",
    "#for itself / understood the information!"
   ]
  },
  {
   "cell_type": "markdown",
   "metadata": {},
   "source": [
    "##### 4.8.1.1.2 Apply the imputation to both train and test splits<a id='4.8.1.1.2_Apply_the_imputation_to_both_train_and_test_splits'></a>"
   ]
  },
  {
   "cell_type": "code",
   "execution_count": null,
   "metadata": {},
   "outputs": [],
   "source": [
    "#oh ok so i was gonna say like but aren't we supposed to first learn the training set and THEN apply it on the test\n",
    "#but since we're doing the MEDIAN to backfill, we're not using any kind of real learning from the training set!\n",
    "#we're using the OVERALL MEDIANS and applying it to fill ALL THE NANS from each column! only reason we have to write it\n",
    "#out separately here is bc way back in the beginning w/ the train-test-learn function that split things up right there\n",
    "#and then but we're doing the exact same thing to them!\n",
    "\n",
    "#similar to before how we used the straight average of the training set for prediction of the test set,\n",
    "#similarly here we're gonna use the median of each column to fill in the nans of both training & test\n",
    "#(but remem, it's NOT that we're using training set to backfill the training set and likewise test's to backfill test;\n",
    "#we're filling ALL/BOTH w/ the SAME SET OF MEDIANS!!! treating them as their original, one, unified set!!!\n",
    "#so don't get confused - this isn't like PREDICTING earlier where we used the TRAINING set's average as a predictor\n",
    "#for the test. that makes sense there\n",
    "\n",
    "#but for BACKFILLING MISSINGS, we wouldn't need to do that - just use the median of the dataset / portion in question"
   ]
  },
  {
   "cell_type": "code",
   "execution_count": null,
   "metadata": {},
   "outputs": [],
   "source": [
    "#Code task 9#\n",
    "\n",
    "#so remember X_train & X_test are what we defined earlier as the predicting features/values sets in the training & test\n",
    "#split respectively\n",
    "\n",
    "#so those are apart of the train_test_split skilclitearn function\n",
    "\n",
    "#so those have methods of their own, which we're using below, to fill in any missing values!\n",
    "\n",
    "#Call `X_train` and `X_test`'s `fillna()` method, passing `X_defaults_median` as the values to use\n",
    "#Assign the results to `X_tr` and `X_te`, respectively\n",
    "X_tr = X_train.fillna(X_defaults_median)\n",
    "X_te = X_test.fillna(X_defaults_median)\n",
    "\n",
    "#oh shoot so i think i messed up in my explanations in other places. so this IS like before -\n",
    "#we're not using the whole / parent medians for each column to back fill both the training and test data\n",
    "#like before, we're only taking the TRAINING medians, and fitting on the TRAINING set, and then using the SAME\n",
    "#training medians to fill in the test blanks!!!\n",
    "\n",
    "\n",
    "#okay so we're simply telling it fill the na's in each column of X_train/test (all the non-price features)\n",
    "#w/ that respective column's MEDIAN, which is/as defined by / laid out in 'X_defaults_median'\n",
    "\n",
    "#and note here that BOTH the training and test sets will get the SAME MEDIAN VALUES FILLED IN THEIR NA'S FOR THE SAME\n",
    "#COLUMNS!\n",
    "\n",
    "#so, i was gonna say what was the point of splitting these off now then, but we split tese up in the VERY BEGINNING!\n",
    "#thus we already had 2 sets to work with so have to deal w/ each of them separately\n",
    "\n",
    "\n",
    "#so it's not like we're first doing something on the training set, using its median, then doing the same w/ the test\n",
    "#set, i.e. using the TEST SET'S median! they're both part of the SAME parent unified set and so are BOTH getting the SAME\n",
    "#MEDIAN vals!!!"
   ]
  },
  {
   "cell_type": "markdown",
   "metadata": {},
   "source": [
    "##### 4.8.1.1.3 Scale the data<a id='4.8.1.1.3_Scale_the_data'></a>"
   ]
  },
  {
   "cell_type": "markdown",
   "metadata": {},
   "source": [
    "As you have features measured in many different units, with numbers that vary by orders of magnitude, start off by scaling them to put them all on a consistent scale. The [StandardScaler](https://scikit-learn.org/stable/modules/generated/sklearn.preprocessing.StandardScaler.html) scales each feature to zero mean and unit variance."
   ]
  },
  {
   "cell_type": "code",
   "execution_count": null,
   "metadata": {},
   "outputs": [],
   "source": [
    "#so right, this is to SRHINK down the various different columns to use the same scale so that they're all still the\n",
    "#same values relative to each other within each/same feature/column, but now we can also compare them to EACH OTHER\n",
    "#for easy correlation/trending/plotting!!!\n",
    "\n",
    "#Code task 10#\n",
    "#Call the StandardScaler`s fit method on `X_tr` to fit the scaler\n",
    "#then use its `transform()` method to apply the scaling to both the train and test split\n",
    "#data (`X_tr` and `X_te`), naming the results `X_tr_scaled` and `X_te_scaled`, respectively\n",
    "\n",
    "\n",
    "#so StandardScaler() is a built-in function that will standardize and scale our dataset\n",
    "\n",
    "#make it into a more concise variable\n",
    "scaler = StandardScaler()\n",
    "\n",
    "#call SS's 'fit' method to both do the actual scaling AND come up w/ the best fit line(s)/PCs?\n",
    "#combined 2 steps in 1?\n",
    "scaler.fit(X_tr)\n",
    "\n",
    "#^so somehow this will magically look at all 200+ resorts and 30+ features and come up w/ the best fit lines\n",
    "#for each dimension, i.e. a Principle Component\n",
    "#since there's much fewer features than there are resorts, it's gonna look at each feature as a dimension,\n",
    "#to get a PC on, as we saw earlier in Unit 3\n",
    "\n",
    "\n",
    "#and so it'll get those set of best fit lines for the scaled features based on the number of those features\n",
    "#and remem in pca it gets the variance on each of those PCs to tell us where the most significant ones are!\n",
    "\n",
    "#and remem, it's not about the variance from EACH OTHER across/within ONE feature, it's about the COMBINED / VECTORED (eigenvector?? linear combination??)\n",
    "#variance from each other in the plot of TWO FEATURES - so the 'each other' here is an ORDERED PAIR of (feat1, feat2)!\n",
    "#and of course the TWO DIFFERENT AXISES become ONE >> the eigenvector/linear combination? and that new one single axis,\n",
    "#off which the variance is based, is the PRINCIPLE COMPONENT!\n",
    "#and so for each feature there's a new principle component\n",
    "#and they all get ranked in terms of how much variance they're responsible\n",
    "#the more variance there is in the component features, the more variance we can expect from the PC!\n",
    "#^i believe that's true, at least that's a nice simplistic understanding - cuz remember PCA is showing us / grouping by\n",
    "#what matters most and what matters most are the most POLARIZING fields, i.e. the ones w/ the most variance\n",
    "#but remem, we don't have a way to fairly compare the variance of the indiv features bc of the diff scales and\n",
    "#stdv scaling makes the variance 0! \n",
    "\n",
    "\n",
    "#what was the point of writing up there by itself if we were just gonna do it down here and assign to variables?\n",
    "#that was because i had it wrong down here and it's supposed to be TRANSFORM down here - fixed now!\n",
    "\n",
    "\n",
    "\n",
    "#okay and now that that SCALED & FITTED the data,\n",
    "#this is gonna TRANSFORM THE data, i.e. twist it to line up w/ its new axes >> the PCs!!\n",
    "#so each point will have a new set of ***32***-length ordered-'pair' / coordinate address\n",
    "#one representing each axis/PC, which represents the number of features!!!\n",
    "\n",
    "\n",
    "\n",
    "X_tr_scaled = scaler.transform(X_tr)   #originally put .fit() for these both for some reason -__-\n",
    "X_te_scaled = scaler.transform(X_te)\n",
    "\n",
    "\n",
    "#.transform() REMAPS!!!"
   ]
  },
  {
   "cell_type": "code",
   "execution_count": null,
   "metadata": {},
   "outputs": [],
   "source": [
    "#okay but wait - so X_tr_scaled is scaler.fit(X_tr),\n",
    "#so then is X_tr_scaled equaled to the SCALED set of X_train values or the\n",
    "#PC FIT LINES???"
   ]
  },
  {
   "cell_type": "code",
   "execution_count": null,
   "metadata": {
    "scrolled": true
   },
   "outputs": [],
   "source": [
    "X_tr_scaled"
   ]
  },
  {
   "cell_type": "code",
   "execution_count": null,
   "metadata": {},
   "outputs": [],
   "source": [
    "X_tr_scaled.shape"
   ]
  },
  {
   "cell_type": "code",
   "execution_count": null,
   "metadata": {},
   "outputs": [],
   "source": [
    "len(X_tr.columns)"
   ]
  },
  {
   "cell_type": "code",
   "execution_count": null,
   "metadata": {},
   "outputs": [],
   "source": [
    "scaler"
   ]
  },
  {
   "cell_type": "code",
   "execution_count": null,
   "metadata": {},
   "outputs": [],
   "source": [
    "#whatHHH? it's the same thing\n",
    "#so:\n",
    "# scaler = StandardScaler() = X_tr_scaled = scaler.transform(X_tr) ###originally had last method as .fit() instead of .transform()!"
   ]
  },
  {
   "cell_type": "code",
   "execution_count": null,
   "metadata": {
    "scrolled": true
   },
   "outputs": [],
   "source": [
    "#so okay, i guess last hope is to try scaler.fit(X_tr):\n",
    "#scaler.transform(X_tr)"
   ]
  },
  {
   "cell_type": "code",
   "execution_count": null,
   "metadata": {},
   "outputs": [],
   "source": [
    "#graph, still the same thing...\n"
   ]
  },
  {
   "cell_type": "code",
   "execution_count": null,
   "metadata": {
    "scrolled": true
   },
   "outputs": [],
   "source": [
    "#well let's atleast see X_tr\n",
    "X_tr"
   ]
  },
  {
   "cell_type": "code",
   "execution_count": null,
   "metadata": {},
   "outputs": [],
   "source": [
    "#okay, well, aside from the weird unexplained order, the values look normal and this should have as we programmed,\n",
    "#the blanks to be filled w/ their column's median (of the non-blank values)"
   ]
  },
  {
   "cell_type": "code",
   "execution_count": null,
   "metadata": {},
   "outputs": [],
   "source": [
    "#so how would i see JUST the scaled values, BEFORE they get transformed?\n",
    "#cuz when we did this- scaler.fit(X_tr) -it just showed us that it was a StandardScaler() function\n",
    "#maybe there's something else you have to call on it to reveal the scaled numbers"
   ]
  },
  {
   "cell_type": "markdown",
   "metadata": {},
   "source": [
    "##### 4.8.1.1.4 Train the model on the train split<a id='4.8.1.1.4_Train_the_model_on_the_train_split'></a>"
   ]
  },
  {
   "cell_type": "code",
   "execution_count": null,
   "metadata": {},
   "outputs": [],
   "source": [
    "#okay, so now that we have our SCALED AND TRANSFORMED training data,\n",
    "#we're gonna bring in our long awaited, main event - PRICES! the thing we're tryna predict. our y, dependent variable\n",
    "#so we're gonna train/learn from the X's and their relationship w/ their respective y's/prices to make our model / our\n",
    "#linear regressing best fit line\n",
    "#how is that gonna take the new coords and add a y to already 32 dimensions?? or even if you just had 2 PCs??\n",
    "#i'm not sure\n",
    "#maybe we're taking just the FIRST PC as our x?? \n",
    "\n",
    "#okay so i guess the \".fit()\" above was NOT to get PCs/PC lines/variance! that fit was to simply to CREATE the\n",
    "#/SCALE the data!\n",
    "\n",
    "#it's like the '.fit()' feature in alot of these functions is simply like the starting point, the initiation to\n",
    "#get things going\n",
    "\n",
    "lm = LinearRegression().fit(X_tr_scaled, y_train)"
   ]
  },
  {
   "cell_type": "code",
   "execution_count": null,
   "metadata": {},
   "outputs": [],
   "source": [
    "lm"
   ]
  },
  {
   "cell_type": "markdown",
   "metadata": {},
   "source": [
    "##### 4.8.1.1.5 Make predictions using the model on both train and test splits<a id='4.8.1.1.5_Make_predictions_using_the_model_on_both_train_and_test_splits'></a>"
   ]
  },
  {
   "cell_type": "code",
   "execution_count": null,
   "metadata": {},
   "outputs": [],
   "source": [
    "#Code task 11#\n",
    "#Call the `predict()` method of the model (`lm`) on both the scaled train data and scaled test data\n",
    "#Assign the predictions to `y_tr_pred` and `y_te_pred`, respectively\n",
    "\n",
    "#okay so lm is the linear regression model based on X training scaled and its y prices\n",
    "\n",
    "#so now, we're gonna use that model to predict the prices of both the training set (as is customary) and the test set:\n",
    "y_tr_pred = lm.predict(X_tr_scaled)\n",
    "y_te_pred = lm.predict(X_te_scaled)"
   ]
  },
  {
   "cell_type": "code",
   "execution_count": null,
   "metadata": {
    "scrolled": true
   },
   "outputs": [],
   "source": [
    "y_tr_pred[:5]"
   ]
  },
  {
   "cell_type": "code",
   "execution_count": null,
   "metadata": {
    "scrolled": true
   },
   "outputs": [],
   "source": [
    "y_te_pred[:5]"
   ]
  },
  {
   "cell_type": "markdown",
   "metadata": {},
   "source": [
    "##### 4.8.1.1.6 Assess model performance<a id='4.8.1.1.6_Assess_model_performance'></a>"
   ]
  },
  {
   "cell_type": "code",
   "execution_count": null,
   "metadata": {},
   "outputs": [],
   "source": [
    "#okay so now we'll see how these predictions did compared to the actuals using our r2 metric which tells us\n",
    "#how much the model/predictions improved the variance\n",
    "\n",
    "#predicted variance >>  predicted values vs actuals\n",
    "#------------------    ------------------------------\n",
    "#original variance  >>  actuals values vs their mean(right?)\n",
    "\n",
    "\n",
    "#aka, how do the predicted values compare to the actuals vs the actuals compared to each other?\n",
    "#if the predictions can get closer to / lasso / capture the actuals better than the actuals can group themselves / are\n",
    "#grouped/laid out naturally, then that'a a good sign / a potential keeper, a step in the right direction\n",
    "\n",
    "\n",
    "#REMEM, unlike the original way we did predictions, this time, the predictions for the test set are BASED on the test\n",
    "#set, NOT on the training. i mean, like last time, we tested the prediction of using the average training for the test\n",
    "#set. the lm model was formed using the scaled training data, but that's always what you do: model/fit/regress/learn on\n",
    "#train, apply/test on test\n",
    "#but yeah, here, train & test each got their own set of predictions, a unique value, rather than constant, for each\n",
    "#resort. but again, the WHOLE set, training + test, used the WHOLE/COMBINED data set's columns' medians to fill in\n",
    "#the nans"
   ]
  },
  {
   "cell_type": "code",
   "execution_count": null,
   "metadata": {
    "scrolled": true
   },
   "outputs": [],
   "source": [
    "# r^2 - train, test\n",
    "#this'll tell us the r2 on the basis of using the MEDIAN to fill in the nans!\n",
    "#remember ORDER MATTERS W R2!!!\n",
    "#must be actuals, predictions, and indeed this follows\n",
    "median_r2 = r2_score(y_train, y_tr_pred), r2_score(y_test, y_te_pred)\n",
    "median_r2\n",
    "\n",
    "\n",
    "#so what do we expect?\n",
    "#well, we'd expect, as always, that the prediction would be better/more accurate/less variation for the TRAINING SET\n",
    "#since that's what it's based on, compared to the test set\n",
    "\n",
    "#i mean it's like if you teach a kid what everything in the house is - stairs, door, window, banana, sink, lota, etc..\n",
    "#assumably they could also identify those things in ANY house, but also assumably, they'd identify them BETTER in their\n",
    "#OWN house!! the one they learned on! cuz it's a one-for-one match! no variation from their learning model!!"
   ]
  },
  {
   "cell_type": "code",
   "execution_count": null,
   "metadata": {},
   "outputs": [],
   "source": [
    "#cool! so indeed the prediction is WAY better on the training set than the test. in fact, it eliminated 82% of the variance!!!\n",
    "#(means it's \"82% accurate?\")\n",
    "\n",
    "#wbut hy is the second one so different???\n",
    "\n",
    "#hmm, i'm not sure. the template shows that it should be 0.72 - which is quite different than this\n",
    "\n",
    "#well let's double check and see what we get w/ our OWN homebrewed/homemade formula from scratch:\n",
    "\n",
    "r_squared(y_test, y_te_pred)"
   ]
  },
  {
   "cell_type": "code",
   "execution_count": null,
   "metadata": {},
   "outputs": [],
   "source": [
    "# hmm dang. well the good thing is that this is consistent w/ it - but the bad thing is we still don't know why this is\n",
    "# different than the template. either the template is wrong? or somehow i messed up one of these lists\n",
    "\n",
    "# I mean the formula only involves y test and y te pred. and we def didn't change y test. we defined that way in the\n",
    "# very beginning\n",
    "\n",
    "# looked and we def never altered y_test\n",
    "\n",
    "# so there's gotta be something w/ y_te_pred\n",
    "\n",
    "\n",
    "# even tried switching em but this isn't right either, although it's closer: r_squared(y_te_pred, y_test)"
   ]
  },
  {
   "cell_type": "code",
   "execution_count": null,
   "metadata": {},
   "outputs": [],
   "source": [
    "#ohhh. could it be that it has to do w how it randomly split the data into training and test? like maybe every time you\n",
    "#split it you get a diff split?\n",
    "#and isnt there like an id code you can use to assign it so you can get the same reproducible results every time?\n",
    "\n",
    "#yes! thats randomstate, and we DID use that!"
   ]
  },
  {
   "cell_type": "code",
   "execution_count": null,
   "metadata": {},
   "outputs": [],
   "source": [
    "X_tr.isna().sum()\n",
    "X_te.isna().sum()"
   ]
  },
  {
   "cell_type": "code",
   "execution_count": null,
   "metadata": {},
   "outputs": [],
   "source": [
    "#just wanted to confirm. these all look good, for both"
   ]
  },
  {
   "cell_type": "markdown",
   "metadata": {},
   "source": [
    "Recall that you estimated ticket price by simply using a known average. As expected, this produced an $R^2$ of zero for both the training and test set, because $R^2$ tells us how much of the variance you're explaining beyond that of using just the mean, and you were using just the mean. Here we see that our simple linear regression model explains over 80% of the variance on the train set and over 70% on the test set. Clearly you are onto something, although the much lower value for the test set suggests you're overfitting somewhat. This isn't a surprise as you've made no effort to select a parsimonious set of features or deal with multicollinearity in our data."
   ]
  },
  {
   "cell_type": "code",
   "execution_count": null,
   "metadata": {},
   "outputs": [],
   "source": [
    "#interesting. so yeah, we saw that when we simply used the mean as the predictor. using the mean gets you an r2 of 0 /\n",
    "#ZERO / JEERO because that's the BASELINE!! remem, that's like the break-even point, means that it just got you WHAT\n",
    "#YOU ALREADY HAD!!!\n",
    "\n",
    "#so yeah, that's an interesting way to look at it. r2 tells you how much of the variance you closed BEYOND just using\n",
    "#the mean, but it also just tells you how much you've closed/improved the variance from the original AT ALL!\n",
    "\n",
    "#ahh man, there it is again, they're saying the test r2 SHOULD be over 70%!! so how is mine so way off!? i guess\n",
    "#the randomizer thing doesn't explain it, which we already knew cuz of random state\n",
    "\n",
    "#but that's also interesting that they say the 70% is 'MUCH' lower than the 80%??\n",
    "\n",
    "#and parsimonious? like economical? or i guess carefully selected\n",
    "\n",
    "#lets see if my other numbers don't line up w/ the template..."
   ]
  },
  {
   "cell_type": "code",
   "execution_count": null,
   "metadata": {
    "scrolled": true
   },
   "outputs": [],
   "source": [
    "#Code task 12#\n",
    "#Now calculate the mean absolute error scores using `sklearn`'s `mean_absolute_error` function\n",
    "# as we did above for R^2\n",
    "# MAE - train, test\n",
    "median_mae = mean_absolute_error(y_train, y_tr_pred), mean_absolute_error(y_test, y_te_pred)\n",
    "median_mae"
   ]
  },
  {
   "cell_type": "code",
   "execution_count": null,
   "metadata": {},
   "outputs": [],
   "source": [
    "#dang, they don't tell you what these are supposed to be - wasn't run in template. but from below looks like we're\n",
    "#about right, in the ballpark. although the $19 was based off the TEST mae. here our test mae is closer to $12. it's our\n",
    "#TRAINING set that's close to $9"
   ]
  },
  {
   "cell_type": "code",
   "execution_count": null,
   "metadata": {},
   "outputs": [],
   "source": [
    "#but yeah, that's a good reminder on what mae is. it's the average ABSOLUTE (i.e. NON-squared) diff between\n",
    "#the predictions and the actuals, like a margin of error!"
   ]
  },
  {
   "cell_type": "markdown",
   "metadata": {},
   "source": [
    "Using this model, then, on average you'd expect to estimate a ticket price within \\\\$9 or so of the real price. This is much, much better than the \\\\$19 from just guessing using the average. There may be something to this machine learning lark after all!"
   ]
  },
  {
   "cell_type": "code",
   "execution_count": null,
   "metadata": {},
   "outputs": [],
   "source": [
    "#Code task 13#\n",
    "#And also do the same using `sklearn`'s `mean_squared_error`\n",
    "# MSE - train, test\n",
    "median_mse = mean_squared_error(y_tr_pred, y_train), mean_squared_error(y_te_pred, y_test)\n",
    "median_mse"
   ]
  },
  {
   "cell_type": "markdown",
   "metadata": {},
   "source": [
    "#### 4.8.1.2 Impute missing values with the mean<a id='4.8.1.2_Impute_missing_values_with_the_mean'></a>"
   ]
  },
  {
   "cell_type": "markdown",
   "metadata": {},
   "source": [
    "You chose to use the median for filling missing values because of the skew of many of our predictor feature distributions. What if you wanted to try something else, such as the mean?"
   ]
  },
  {
   "cell_type": "markdown",
   "metadata": {},
   "source": [
    "##### 4.8.1.2.1 Learn the values to impute from the train set<a id='4.8.1.2.1_Learn_the_values_to_impute_from_the_train_set'></a>"
   ]
  },
  {
   "cell_type": "code",
   "execution_count": null,
   "metadata": {
    "scrolled": true
   },
   "outputs": [],
   "source": [
    "#Code task 14#\n",
    "#As we did for the median above, calculate mean values for imputing missing values\n",
    "# These are the values we'll use to fill in any missing values\n",
    "X_defaults_mean = X_train.mean()\n",
    "X_defaults_mean"
   ]
  },
  {
   "cell_type": "code",
   "execution_count": null,
   "metadata": {},
   "outputs": [],
   "source": [
    "#so again we're using only the TRAINING's mean and will use these to apply to the WHOLE DATA'S blanks!!"
   ]
  },
  {
   "cell_type": "markdown",
   "metadata": {},
   "source": [
    "By eye, you can immediately tell that your replacement values are much higher than those from using the median."
   ]
  },
  {
   "cell_type": "markdown",
   "metadata": {},
   "source": [
    "##### 4.8.1.2.2 Apply the imputation to both train and test splits<a id='4.8.1.2.2_Apply_the_imputation_to_both_train_and_test_splits'></a>"
   ]
  },
  {
   "cell_type": "code",
   "execution_count": null,
   "metadata": {},
   "outputs": [],
   "source": [
    "#the new, backfilled columns, using mean\n",
    "X_tr = X_train.fillna(X_defaults_mean)\n",
    "X_te = X_test.fillna(X_defaults_mean)"
   ]
  },
  {
   "cell_type": "markdown",
   "metadata": {},
   "source": [
    "##### 4.8.1.2.3 Scale the data<a id='4.8.1.2.3_Scale_the_data'></a>"
   ]
  },
  {
   "cell_type": "code",
   "execution_count": null,
   "metadata": {},
   "outputs": [],
   "source": [
    "#scale the data down, mean-center it and transform it / cast / hang it onto / unto the new tilted / twisted axes,\n",
    "#the PCs\n",
    "\n",
    "scaler = StandardScaler()\n",
    "scaler.fit(X_tr)\n",
    "X_tr_scaled = scaler.transform(X_tr)\n",
    "X_te_scaled = scaler.transform(X_te)"
   ]
  },
  {
   "cell_type": "markdown",
   "metadata": {},
   "source": [
    "##### 4.8.1.2.4 Train the model on the train split<a id='4.8.1.2.4_Train_the_model_on_the_train_split'></a>"
   ]
  },
  {
   "cell_type": "code",
   "execution_count": null,
   "metadata": {},
   "outputs": [],
   "source": [
    "lm = LinearRegression().fit(X_tr_scaled, y_train)"
   ]
  },
  {
   "cell_type": "markdown",
   "metadata": {},
   "source": [
    "##### 4.8.1.2.5 Make predictions using the model on both train and test splits<a id='4.8.1.2.5_Make_predictions_using_the_model_on_both_train_and_test_splits'></a>"
   ]
  },
  {
   "cell_type": "code",
   "execution_count": null,
   "metadata": {},
   "outputs": [],
   "source": [
    "#predict the prices based off the scaled/transformed X's\n",
    "\n",
    "y_tr_pred = lm.predict(X_tr_scaled)\n",
    "y_te_pred = lm.predict(X_te_scaled)"
   ]
  },
  {
   "cell_type": "markdown",
   "metadata": {},
   "source": [
    "##### 4.8.1.2.6 Assess model performance<a id='4.8.1.2.6_Assess_model_performance'></a>"
   ]
  },
  {
   "cell_type": "code",
   "execution_count": null,
   "metadata": {},
   "outputs": [],
   "source": [
    "r2_score(y_train, y_tr_pred), r2_score(y_test, y_te_pred)"
   ]
  },
  {
   "cell_type": "code",
   "execution_count": null,
   "metadata": {},
   "outputs": [],
   "source": [
    "mean_absolute_error(y_train, y_tr_pred), mean_absolute_error(y_test, y_te_pred)"
   ]
  },
  {
   "cell_type": "code",
   "execution_count": null,
   "metadata": {},
   "outputs": [],
   "source": [
    "mean_squared_error(y_train, y_tr_pred), mean_squared_error(y_test, y_te_pred)"
   ]
  },
  {
   "cell_type": "markdown",
   "metadata": {},
   "source": [
    "These results don't seem very different to when you used the median for imputing missing values. Perhaps it doesn't make much difference here. Maybe your overtraining dominates. Maybe other feature transformations, such as taking the log, would help. You could try with just a subset of features rather than using all of them as inputs.\n",
    "\n",
    "To perform the median/mean comparison, you copied and pasted a lot of code just to change the function for imputing missing values. It would make more sense to write a function that performed the sequence of steps:\n",
    "1. impute missing values\n",
    "2. scale the features\n",
    "3. train a model\n",
    "4. calculate model performance\n",
    "\n",
    "But these are common steps and `sklearn` provides something much better than writing custom functions."
   ]
  },
  {
   "cell_type": "markdown",
   "metadata": {},
   "source": [
    "### 4.8.2 Pipelines<a id='4.8.2_Pipelines'></a>"
   ]
  },
  {
   "cell_type": "markdown",
   "metadata": {},
   "source": [
    "One of the most important and useful components of `sklearn` is the [pipeline](https://scikit-learn.org/stable/modules/generated/sklearn.pipeline.Pipeline.html). In place of `panda`'s `fillna` DataFrame method, there is `sklearn`'s `SimpleImputer`. Remember the first linear model above performed the steps:\n",
    "\n",
    "1. replace missing values with the median for each feature\n",
    "2. scale the data to zero mean and unit variance\n",
    "3. train a linear regression model\n",
    "\n",
    "and all these steps were trained on the train split and then applied to the test split for assessment.\n",
    "\n",
    "The pipeline below defines exactly those same steps. Crucially, the resultant `Pipeline` object has a `fit()` method and a `predict()` method, just like the `LinearRegression()` object itself. Just as you might create a linear regression model and train it with `.fit()` and predict with `.predict()`, you can wrap the entire process of imputing and feature scaling and regression in a single object you can train with `.fit()` and predict with `.predict()`. And that's basically a pipeline: a model on steroids."
   ]
  },
  {
   "cell_type": "markdown",
   "metadata": {},
   "source": [
    "#### 4.8.2.1 Define the pipeline<a id='4.8.2.1_Define_the_pipeline'></a>"
   ]
  },
  {
   "cell_type": "code",
   "execution_count": null,
   "metadata": {},
   "outputs": [],
   "source": [
    "pipe = make_pipeline(\n",
    "    SimpleImputer(strategy='median'), \n",
    "    StandardScaler(), \n",
    "    LinearRegression()\n",
    ")\n",
    "\n",
    "#so this lets us set up / bundle all 3 of these steps into one step - using median method for nan backfill,\n",
    "#standardscaler for scaling/transforming, and LinearRegression for making the prediction / best-fit line"
   ]
  },
  {
   "cell_type": "code",
   "execution_count": null,
   "metadata": {},
   "outputs": [],
   "source": [
    "type(pipe)"
   ]
  },
  {
   "cell_type": "code",
   "execution_count": null,
   "metadata": {},
   "outputs": [],
   "source": [
    "hasattr(pipe, 'fit'), hasattr(pipe, 'predict')"
   ]
  },
  {
   "cell_type": "markdown",
   "metadata": {},
   "source": [
    "#### 4.8.2.2 Fit the pipeline<a id='4.8.2.2_Fit_the_pipeline'></a>"
   ]
  },
  {
   "cell_type": "markdown",
   "metadata": {},
   "source": [
    "Here, a single call to the pipeline's `fit()` method combines the steps of learning the imputation (determining what values to use to fill the missing ones), the scaling (determining the mean to subtract and the variance to divide by), and then training the model. It does this all in the one call with the training data as arguments."
   ]
  },
  {
   "cell_type": "code",
   "execution_count": null,
   "metadata": {},
   "outputs": [],
   "source": [
    "#wow. what a function. does all 3 of these steps in 1!\n",
    "\n",
    "#Code task 15#\n",
    "#Call the pipe's `fit()` method with `X_train` and `y_train` as arguments\n",
    "pipe.fit(X_train, y_train)"
   ]
  },
  {
   "cell_type": "markdown",
   "metadata": {},
   "source": [
    "#### 4.8.2.3 Make predictions on the train and test sets<a id='4.8.2.3_Make_predictions_on_the_train_and_test_sets'></a>"
   ]
  },
  {
   "cell_type": "code",
   "execution_count": null,
   "metadata": {},
   "outputs": [],
   "source": [
    "#make a prediction of the training prices and test prices using the training X's and test X's\n",
    "\n",
    "y_tr_pred = pipe.predict(X_train)\n",
    "y_te_pred = pipe.predict(X_test)"
   ]
  },
  {
   "cell_type": "markdown",
   "metadata": {},
   "source": [
    "#### 4.8.2.4 Assess performance<a id='4.8.2.4_Assess_performance'></a>"
   ]
  },
  {
   "cell_type": "code",
   "execution_count": null,
   "metadata": {},
   "outputs": [],
   "source": [
    "r2_score(y_train, y_tr_pred), r2_score(y_test, y_te_pred)"
   ]
  },
  {
   "cell_type": "markdown",
   "metadata": {},
   "source": [
    "And compare with your earlier (non-pipeline) result:"
   ]
  },
  {
   "cell_type": "code",
   "execution_count": null,
   "metadata": {
    "scrolled": true
   },
   "outputs": [],
   "source": [
    "median_r2"
   ]
  },
  {
   "cell_type": "code",
   "execution_count": null,
   "metadata": {},
   "outputs": [],
   "source": [
    "#nice! so it is the exact same, but the test r2 is still way off from what they had"
   ]
  },
  {
   "cell_type": "code",
   "execution_count": null,
   "metadata": {},
   "outputs": [],
   "source": [
    "mean_absolute_error(y_train, y_tr_pred), mean_absolute_error(y_test, y_te_pred)"
   ]
  },
  {
   "cell_type": "code",
   "execution_count": null,
   "metadata": {},
   "outputs": [],
   "source": [
    "Compare with your earlier result:"
   ]
  },
  {
   "cell_type": "code",
   "execution_count": null,
   "metadata": {
    "scrolled": true
   },
   "outputs": [],
   "source": [
    "median_mae"
   ]
  },
  {
   "cell_type": "code",
   "execution_count": null,
   "metadata": {},
   "outputs": [],
   "source": [
    "#right on dude"
   ]
  },
  {
   "cell_type": "code",
   "execution_count": null,
   "metadata": {},
   "outputs": [],
   "source": [
    "mean_squared_error(y_train, y_tr_pred), mean_squared_error(y_test, y_te_pred)"
   ]
  },
  {
   "cell_type": "markdown",
   "metadata": {},
   "source": [
    "Compare with your earlier result:"
   ]
  },
  {
   "cell_type": "code",
   "execution_count": null,
   "metadata": {},
   "outputs": [],
   "source": [
    "median_mse"
   ]
  },
  {
   "cell_type": "code",
   "execution_count": null,
   "metadata": {},
   "outputs": [],
   "source": [
    "#cowabunga"
   ]
  },
  {
   "cell_type": "markdown",
   "metadata": {},
   "source": [
    "These results confirm the pipeline is doing exactly what's expected, and results are identical to your earlier steps. This allows you to move faster but with confidence."
   ]
  },
  {
   "cell_type": "markdown",
   "metadata": {},
   "source": [
    "## 4.9 Refining The Linear Model<a id='4.9_Refining_The_Linear_Model'></a>"
   ]
  },
  {
   "cell_type": "markdown",
   "metadata": {},
   "source": [
    "You suspected the model was overfitting. This is no real surprise given the number of features you blindly used. It's likely a judicious subset of features would generalize better. `sklearn` has a number of feature selection functions available. The one you'll use here is `SelectKBest` which, as you might guess, selects the k best features. You can read about SelectKBest \n",
    "[here](https://scikit-learn.org/stable/modules/generated/sklearn.feature_selection.SelectKBest.html#sklearn.feature_selection.SelectKBest). `f_regression` is just the [score function](https://scikit-learn.org/stable/modules/generated/sklearn.feature_selection.f_regression.html#sklearn.feature_selection.f_regression) you're using because you're performing regression. It's important to choose an appropriate one for your machine learning task."
   ]
  },
  {
   "cell_type": "code",
   "execution_count": null,
   "metadata": {},
   "outputs": [],
   "source": [
    "#ahh okay i understand. overfitting is when you're getting TOO specific on what makes something something\n",
    "\n",
    "#like when training a computer or a kid to recognize a cat - don't get so hung up on things like the color or size\n",
    "#focus on the shape and features like whiskers, ears, tail ears etc\n",
    "\n",
    "#THAT'S HOW YOU ***OVER***FIT!!!\n",
    "\n",
    "#you gotta keep it loose enough so that you're recognizing PATTERNS, NOT SPECIFICS!!! wanna be able to identify FAMILIES!\n",
    "#NOT individuals!!! like be able to figure out what a cat is, not which one CAGO is!\n",
    "\n",
    "\n",
    "#SelectKBest is a sklearn function that helps you select / selects the K best features for you\n",
    "\n",
    "#f_regression? score function??"
   ]
  },
  {
   "cell_type": "markdown",
   "metadata": {},
   "source": [
    "### 4.9.1 Define the pipeline<a id='4.9.1_Define_the_pipeline'></a>"
   ]
  },
  {
   "cell_type": "markdown",
   "metadata": {},
   "source": [
    "Redefine your pipeline to include this feature selection step:"
   ]
  },
  {
   "cell_type": "code",
   "execution_count": null,
   "metadata": {},
   "outputs": [],
   "source": [
    "#this time we're gonna narrow in and focus only on the features that matter most\n",
    "\n",
    "#Code task 16#\n",
    "#Add `SelectKBest` as a step in the pipeline between `StandardScaler()` and `LinearRegression()`\n",
    "#Don't forget to tell it to use `f_regression` as its score function\n",
    "pipe = make_pipeline(\n",
    "    SimpleImputer(strategy='median'), \n",
    "    StandardScaler(),\n",
    "    SelectKBest(score_func=f_regression),\n",
    "    LinearRegression()\n",
    ")\n",
    "\n",
    "#quickly, f_regression has to do w/ correlations between regressors/positive predictors and gives p-values\n",
    "#ranks features in order (of correlation?) based on F-scores, which are converted to p-values?"
   ]
  },
  {
   "cell_type": "markdown",
   "metadata": {},
   "source": [
    "### 4.9.2 Fit the pipeline<a id='4.9.2_Fit_the_pipeline'></a>"
   ]
  },
  {
   "cell_type": "code",
   "execution_count": null,
   "metadata": {
    "scrolled": true
   },
   "outputs": [],
   "source": [
    "pipe.fit(X_train, y_train)"
   ]
  },
  {
   "cell_type": "code",
   "execution_count": null,
   "metadata": {},
   "outputs": [],
   "source": [
    "#this confirms all the functions / ingredients you've baked in"
   ]
  },
  {
   "cell_type": "markdown",
   "metadata": {},
   "source": [
    "### 4.9.3 Assess performance on the train and test set<a id='4.9.3_Assess_performance_on_the_train_and_test_set'></a>"
   ]
  },
  {
   "cell_type": "code",
   "execution_count": null,
   "metadata": {},
   "outputs": [],
   "source": [
    "y_tr_pred = pipe.predict(X_train)\n",
    "y_te_pred = pipe.predict(X_test)"
   ]
  },
  {
   "cell_type": "code",
   "execution_count": null,
   "metadata": {
    "scrolled": true
   },
   "outputs": [],
   "source": [
    "r2_score(y_train, y_tr_pred), r2_score(y_test, y_te_pred)"
   ]
  },
  {
   "cell_type": "code",
   "execution_count": null,
   "metadata": {},
   "outputs": [],
   "source": [
    "#yeah my test numbers continue to be wayyy off, but training is spot on"
   ]
  },
  {
   "cell_type": "code",
   "execution_count": null,
   "metadata": {},
   "outputs": [],
   "source": [
    "mean_absolute_error(y_train, y_tr_pred), mean_absolute_error(y_test, y_te_pred)"
   ]
  },
  {
   "cell_type": "markdown",
   "metadata": {},
   "source": [
    "This has made things worse! Clearly selecting a subset of features has an impact on performance. `SelectKBest` defaults to k=10. You've just seen that 10 is worse than using all features. What is the best k? You could create a new pipeline with a different value of k:"
   ]
  },
  {
   "cell_type": "code",
   "execution_count": null,
   "metadata": {},
   "outputs": [],
   "source": [
    "#haha wow, interesting, we were better off using ALL features than the top 10?? how does that work??"
   ]
  },
  {
   "cell_type": "markdown",
   "metadata": {},
   "source": [
    "### 4.9.4 Define a new pipeline to select a different number of features<a id='4.9.4_Define_a_new_pipeline_to_select_a_different_number_of_features'></a>"
   ]
  },
  {
   "cell_type": "code",
   "execution_count": null,
   "metadata": {},
   "outputs": [],
   "source": [
    "#Code task 17#\n",
    "#Modify the `SelectKBest` step to use a value of 15 for k\n",
    "pipe15 = make_pipeline(\n",
    "    SimpleImputer(strategy='median'), \n",
    "    StandardScaler(),\n",
    "    SelectKBest(score_func=f_regression, k=15),\n",
    "    LinearRegression()\n",
    ")"
   ]
  },
  {
   "cell_type": "markdown",
   "metadata": {},
   "source": [
    "### 4.9.5 Fit the pipeline<a id='4.9.5_Fit_the_pipeline'></a>"
   ]
  },
  {
   "cell_type": "code",
   "execution_count": null,
   "metadata": {},
   "outputs": [],
   "source": [
    "pipe15.fit(X_train, y_train)"
   ]
  },
  {
   "cell_type": "markdown",
   "metadata": {},
   "source": [
    "### 4.9.6 Assess performance on train and test data<a id='4.9.6_Assess_performance_on_train_and_test_data'></a>"
   ]
  },
  {
   "cell_type": "code",
   "execution_count": null,
   "metadata": {},
   "outputs": [],
   "source": [
    "y_tr_pred = pipe15.predict(X_train)\n",
    "y_te_pred = pipe15.predict(X_test)"
   ]
  },
  {
   "cell_type": "code",
   "execution_count": null,
   "metadata": {},
   "outputs": [],
   "source": [
    "r2_score(y_train, y_tr_pred), r2_score(y_test, y_te_pred)"
   ]
  },
  {
   "cell_type": "code",
   "execution_count": null,
   "metadata": {},
   "outputs": [],
   "source": [
    "mean_absolute_error(y_train, y_tr_pred), mean_absolute_error(y_test, y_te_pred)"
   ]
  },
  {
   "cell_type": "markdown",
   "metadata": {},
   "source": [
    "You could keep going, trying different values of k, training a model, measuring performance on the test set, and then picking the model with the best test set performance. There's a fundamental problem with this approach: _you're tuning the model to the arbitrary test set_! If you continue this way you'll end up with a model works well on the particular quirks of our test set _but fails to generalize to new data_. The whole point of keeping a test set is for it to be a set of that new data, to check how well our model might perform on data it hasn't seen.\n",
    "\n",
    "The way around this is a technique called _cross-validation_. You partition the training set into k folds, train our model on k-1 of those folds, and calculate performance on the fold not used in training. This procedure then cycles through k times with a different fold held back each time. Thus you end up building k models on k sets of data with k estimates of how the model performs on unseen data but without having to touch the test set."
   ]
  },
  {
   "cell_type": "code",
   "execution_count": null,
   "metadata": {},
   "outputs": [],
   "source": [
    "#ahh yes, so just as we don't want to OVERfit too specifically to the training set, we also don't wanna keep finetuning\n",
    "#so specifically / to master just the ONE test set!! cuz we need it to be general and work across the board, look for\n",
    "#TRENDS/PATTERNS!!!"
   ]
  },
  {
   "cell_type": "markdown",
   "metadata": {},
   "source": [
    "### 4.9.7 Assessing performance using cross-validation<a id='4.9.7_Assessing_performance_using_cross-validation'></a>"
   ]
  },
  {
   "cell_type": "code",
   "execution_count": null,
   "metadata": {},
   "outputs": [],
   "source": [
    "cv_results = cross_validate(pipe15, X_train, y_train, cv=5)"
   ]
  },
  {
   "cell_type": "code",
   "execution_count": null,
   "metadata": {
    "scrolled": true
   },
   "outputs": [],
   "source": [
    "cv_scores = cv_results['test_score']\n",
    "cv_scores"
   ]
  },
  {
   "cell_type": "code",
   "execution_count": null,
   "metadata": {},
   "outputs": [],
   "source": [
    "#these are r2's right???"
   ]
  },
  {
   "cell_type": "code",
   "execution_count": null,
   "metadata": {},
   "outputs": [],
   "source": [
    "#so this means it re-runs the code 5 times because, w/o a randomstater, it'll return a different result each time"
   ]
  },
  {
   "cell_type": "markdown",
   "metadata": {},
   "source": [
    "Without using the same random state for initializing the CV folds, your actual numbers will be different."
   ]
  },
  {
   "cell_type": "code",
   "execution_count": null,
   "metadata": {},
   "outputs": [],
   "source": [
    "np.mean(cv_scores), np.std(cv_scores)"
   ]
  },
  {
   "cell_type": "markdown",
   "metadata": {},
   "source": [
    "These results highlight that assessing model performance in inherently open to variability. You'll get different results depending on the quirks of which points are in which fold. An advantage of this is that you can also obtain an estimate of the variability, or uncertainty, in your performance estimate."
   ]
  },
  {
   "cell_type": "code",
   "execution_count": null,
   "metadata": {},
   "outputs": [],
   "source": [
    "#ahh okay true, so you can't just base your model off of what works w/ ONE split! then if you / as you tweak you're\n",
    "#gonna over fit too specific. so you gotta keep shaking it up and trying again and seeing how it compares and how\n",
    "#close/consistent/accurate/precise the results are, like sighting your scope / archery!"
   ]
  },
  {
   "cell_type": "code",
   "execution_count": null,
   "metadata": {},
   "outputs": [],
   "source": [
    "np.round((np.mean(cv_scores) - 2 * np.std(cv_scores), np.mean(cv_scores) + 2 * np.std(cv_scores)), 2)"
   ]
  },
  {
   "cell_type": "code",
   "execution_count": null,
   "metadata": {},
   "outputs": [],
   "source": [
    "#hain - so this is the average cv score - 2 times the cv scores' stdv, and 2 ..... oh\n",
    "#it's showing the range of scores to 4 (+/-2 from the mean) standard deviations!"
   ]
  },
  {
   "cell_type": "markdown",
   "metadata": {},
   "source": [
    "### 4.9.8 Hyperparameter search using GridSearchCV<a id='4.9.8_Hyperparameter_search_using_GridSearchCV'></a>"
   ]
  },
  {
   "cell_type": "markdown",
   "metadata": {},
   "source": [
    "Pulling the above together, we have:\n",
    "* a pipeline that\n",
    "    * imputes missing values\n",
    "    * scales the data\n",
    "    * selects the k best features\n",
    "    * trains a linear regression model\n",
    "* a technique (cross-validation) for estimating model performance\n",
    "\n",
    "Now you want to use cross-validation for multiple values of k and use cross-validation to pick the value of k that gives the best performance. `make_pipeline` automatically names each step as the lowercase name of the step and the parameters of the step are then accessed by appending a double underscore followed by the parameter name. You know the name of the step will be 'selectkbest' and you know the parameter is 'k'.\n",
    "\n",
    "You can also list the names of all the parameters in a pipeline like this:"
   ]
  },
  {
   "cell_type": "code",
   "execution_count": null,
   "metadata": {},
   "outputs": [],
   "source": [
    "#Code task 18#\n",
    "#Call `pipe`'s `get_params()` method to get a dict of available parameters and print their names\n",
    "#using dict's `keys()` method\n",
    "pipe.get_params().keys()"
   ]
  },
  {
   "cell_type": "markdown",
   "metadata": {},
   "source": [
    "The above can be particularly useful as your pipelines becomes more complex (you can even nest pipelines within pipelines)."
   ]
  },
  {
   "cell_type": "code",
   "execution_count": null,
   "metadata": {},
   "outputs": [],
   "source": [
    "#\"k will be equal to k+1 in the range from 0 to the number of the number of columns in the X_training set\"\n",
    "\n",
    "k = [k+1 for k in range(len(X_train.columns))]\n",
    "\n",
    "# then this is a new variable that is a key:value pair for the dictionary that's calling on its selectkbest__k feature\n",
    "# and will impute the k in accordance to the definition above?\n",
    "grid_params = {'selectkbest__k': k}"
   ]
  },
  {
   "cell_type": "code",
   "execution_count": null,
   "metadata": {},
   "outputs": [],
   "source": [
    "range(len(X_train.columns))"
   ]
  },
  {
   "cell_type": "markdown",
   "metadata": {},
   "source": [
    "Now you have a range of `k` to investigate. Is 1 feature best? 2? 3? 4? All of them? You could write a for loop and iterate over each possible value, doing all the housekeeping ourselves to track the best value of k. But this is  a common task so there's a built in function in `sklearn`. This is [`GridSearchCV`](https://scikit-learn.org/stable/modules/generated/sklearn.model_selection.GridSearchCV.html).\n",
    "This takes the pipeline object, in fact it takes anything with a `.fit()` and `.predict()` method. In simple cases with no feature selection or imputation or feature scaling etc. you may see the classifier or regressor object itself directly passed into `GridSearchCV`. The other key input is the parameters and values to search over. Optional parameters include the cross-validation strategy and number of CPUs to use."
   ]
  },
  {
   "cell_type": "code",
   "execution_count": null,
   "metadata": {},
   "outputs": [],
   "source": [
    "lr_grid_cv = GridSearchCV(pipe, param_grid=grid_params, cv=5, n_jobs=-1)"
   ]
  },
  {
   "cell_type": "code",
   "execution_count": null,
   "metadata": {
    "scrolled": true
   },
   "outputs": [],
   "source": [
    "lr_grid_cv.fit(X_train, y_train)"
   ]
  },
  {
   "cell_type": "code",
   "execution_count": null,
   "metadata": {},
   "outputs": [],
   "source": [
    "#okay so this is gonna like iterate thru each possible k value, from 1 (cuz k + 1), to 33 technically, cuz will follow\n",
    "#that def, but is no 33rd, so that'll be null; so in reality will go up to 32. we do the +1 cuz the counter starts at\n",
    "#0 and we don't want a k of 0 of course cuz that'd be no good! we're basically converting / translating indexing\n",
    "#language to usable math"
   ]
  },
  {
   "cell_type": "code",
   "execution_count": null,
   "metadata": {},
   "outputs": [],
   "source": [
    "#create these new columns to add to our table\n",
    "\n",
    "score_mean = lr_grid_cv.cv_results_['mean_test_score']\n",
    "score_std = lr_grid_cv.cv_results_['std_test_score']\n",
    "cv_k = [k for k in lr_grid_cv.cv_results_['param_selectkbest__k']]"
   ]
  },
  {
   "cell_type": "code",
   "execution_count": null,
   "metadata": {},
   "outputs": [],
   "source": [
    "#Code task 19#\n",
    "#Print the `best_params_` attribute of `lr_grid_cv`\n",
    "lr_grid_cv.best_params_"
   ]
  },
  {
   "cell_type": "code",
   "execution_count": null,
   "metadata": {},
   "outputs": [],
   "source": [
    "#oh shoot, ok, so it'll go thru all of em and tell you which is the best number of features to focus on, the most\n",
    "#influential. does it tell you which ones those are tho?"
   ]
  },
  {
   "cell_type": "code",
   "execution_count": null,
   "metadata": {
    "scrolled": true
   },
   "outputs": [],
   "source": [
    "#Code task 20#\n",
    "#Assign the value of k from the above dict of `best_params_` and assign it to `best_k`\n",
    "\n",
    "#so best_k will hold the value above we just saw: lr_grid_cv.best_params_ >> {'selectkbest__k': 8}\n",
    "best_k = lr_grid_cv.best_params_['selectkbest__k'] #why do we need to write out ['selectkbest__k']? don't we already get\n",
    "#that when we call just the first part before that?\n",
    "#ohhh wait ok i get it. we want JUST the number (8), so we call it on this end so it returns JUST a/the number!\n",
    "\n",
    "\n",
    "#setting up / staging all the graphing/plotting elements\n",
    "\n",
    "plt.subplots(figsize=(10, 5))\n",
    "plt.errorbar(cv_k, score_mean, yerr=score_std)\n",
    "plt.axvline(x=best_k, c='r', ls='--', alpha=.5)\n",
    "plt.xlabel('k')\n",
    "plt.ylabel('CV score (r-squared)')\n",
    "plt.title('Pipeline mean CV score (error bars +/- 1sd)');"
   ]
  },
  {
   "cell_type": "code",
   "execution_count": null,
   "metadata": {},
   "outputs": [],
   "source": [
    "#oh wow very cool! so it tells us / shows us which is our optimal k - the one w/ the lowest cv score / aka r2\n",
    "#but wait...... isn't the HIGHER the r2 score the BETTER!?! cuz that's telling how much your variance improved/decreased....\n",
    "#oh wait wow nevermind - yes that's exactly right - I was looking at the size / height of the ERROR BARS and not the\n",
    "#height of the point on the line. so yes this makes perfect sense. @k=8 the mean cv'd r2 square is highest and also\n",
    "#the error is smallest? i thought maybe those would be correlated but not necessarily? i mean maybe the highest r2 also\n",
    "#has the lowest error (like mae), but if you look, you can clearly see that the lowest values don't necessarily have\n",
    "#the least error. it seems more like, the more features you try to use/the higher the k, the more the error! although\n",
    "#it seems to get lower until you hit 8 which is again the sweet spot and then climbs back up\n",
    "\n",
    "#also, as noted below, although the error seems to increase by alot, the r2 doesn't seem to go down by too much after\n",
    "#k=8, but it is a rapid ascent to it\n",
    "\n",
    "#ohh ok, so i think i understand the syntax now. the error bar represents the STANDARD DEVIATION of the cv scores @\n",
    "#that k number"
   ]
  },
  {
   "cell_type": "markdown",
   "metadata": {},
   "source": [
    "The above suggests a good value for k is 8. There was an initial rapid increase with k, followed by a slow decline. Also noticeable is the variance of the results greatly increase above k=8. As you increasingly overfit, expect greater swings in performance as different points move in and out of the train/test folds."
   ]
  },
  {
   "cell_type": "code",
   "execution_count": null,
   "metadata": {},
   "outputs": [],
   "source": [
    "#ahh okay, yeah makes alot of sense! if you get too specific / custom, your cv scores when you randomize w/ each sample\n",
    "#are gonna swing ALOT due to the presence and absence of certain members!"
   ]
  },
  {
   "cell_type": "markdown",
   "metadata": {},
   "source": [
    "Which features were most useful? Step into your best model, shown below. Starting with the fitted grid search object, you get the best estimator, then the named step 'selectkbest', for which you can call its `get_support()` method for a logical mask of the features selected."
   ]
  },
  {
   "cell_type": "code",
   "execution_count": null,
   "metadata": {},
   "outputs": [],
   "source": [
    "#so what does this mean? so lr_grid_cv is the big package function we packed w/ features & methods\n",
    "#best_estimator - not sure what that is? we haven't used that yet? we've seen best_PARAMS\n",
    "\n",
    "#why do we gotta specify \"named_steps\"? why can't we just.... name it? to get to it\n",
    "\n",
    "selected = lr_grid_cv.best_estimator_.named_steps.selectkbest.get_support()"
   ]
  },
  {
   "cell_type": "code",
   "execution_count": null,
   "metadata": {
    "scrolled": true
   },
   "outputs": [],
   "source": [
    "selected"
   ]
  },
  {
   "cell_type": "code",
   "execution_count": null,
   "metadata": {},
   "outputs": [],
   "source": [
    "#ok so there's 32 so this is one for each column.... but what is it true/falsing?\n",
    "#ohhh - like whether it's one of the best / k true falsers??\n",
    "#well then this should sum up to 8!!\n",
    "selected.sum()"
   ]
  },
  {
   "cell_type": "code",
   "execution_count": null,
   "metadata": {},
   "outputs": [],
   "source": [
    "#yess!! sensational!"
   ]
  },
  {
   "cell_type": "markdown",
   "metadata": {},
   "source": [
    "Similarly, instead of using the 'selectkbest' named step, you can access the named step for the linear regression model and, from that, grab the model coefficients via its `coef_` attribute:"
   ]
  },
  {
   "cell_type": "code",
   "execution_count": null,
   "metadata": {},
   "outputs": [],
   "source": [
    "#oh so this would be like the equivalent of the 'components_' method for PCA! so this way we can see the ranks of the\n",
    "#features for each PC!?"
   ]
  },
  {
   "cell_type": "code",
   "execution_count": null,
   "metadata": {
    "scrolled": false
   },
   "outputs": [],
   "source": [
    "#Code task 21#\n",
    "#Get the linear model coefficients from the `coef_` attribute and store in `coefs`,\n",
    "#get the matching feature names from the column names of the dataframe,\n",
    "#and display the results as a pandas Series with `coefs` as the values and `features` as the index,\n",
    "#sorting the values in descending order\n",
    "\n",
    "#so remember, this is the alternative to what we just did, except this will show us actual SCORES / relative standings\n",
    "#and magnitude\n",
    "coefs = lr_grid_cv.best_estimator_.named_steps.linearregression.coef_\n",
    "features = X_train.columns[selected]\n",
    "\n",
    "#ahh okay, i get it, yeah just exactly like what we did w/ pca.components_\n",
    "#turn it into a table by tacking/slapping on the column labels\n",
    "#cuz it doesn't rank the coeffs any particular way. just lays it out like a matrix\n",
    "#so it should be 32x32 right? cuz 32 components (rows) with 32 features each (across/columns)\n",
    "\n",
    "#oh wait, no. apparently not. i guess it just sums it up and like OVERALL, these are like the weights/scores/loadings?\n",
    "\n",
    "#like if you JUST chose the first principle component, these would be the coefficients of each feature in the equation\n",
    "#to predict y\n",
    "\n",
    "\n",
    "pd.Series(coefs, index=features).sort_values(ascending=False)"
   ]
  },
  {
   "cell_type": "code",
   "execution_count": null,
   "metadata": {},
   "outputs": [],
   "source": [
    "#very interesting - so this does line up pretty closely with using simple correlation coefficients that we did in eda:\n",
    "#in order it was:\n",
    "\n",
    "#runs\n",
    "#fastquads\n",
    "#vertical drop\n",
    "#snow making acres\n",
    "#total chairs\n",
    "#days open\n",
    "#longest run\n",
    "#trams"
   ]
  },
  {
   "cell_type": "code",
   "execution_count": null,
   "metadata": {},
   "outputs": [],
   "source": [
    "#and this is addressing something different than PCA because w/ PCA we weren't looking at price! we were seeing how\n",
    "#other factors were related to each other. but here, we're seeing how MANY factors are all correlated to SPECIFICALLY\n",
    "#PRICE!!!"
   ]
  },
  {
   "cell_type": "code",
   "execution_count": null,
   "metadata": {
    "scrolled": true
   },
   "outputs": [],
   "source": [
    "#wow so interesting! so vertical_drop is the think most closely tied to price??\n",
    "#so, as in, the price should be proportional to the vertical drop?\n",
    "\n",
    "sns.scatterplot(data=ski_data, x='vertical_drop', y='AdultWeekend')"
   ]
  },
  {
   "cell_type": "code",
   "execution_count": null,
   "metadata": {
    "scrolled": true
   },
   "outputs": [],
   "source": [
    "#wow. look at that. there you have it. a very clear link. let's see the number:\n",
    "ski_data.vertical_drop.corr(ski_data.AdultWeekend)"
   ]
  },
  {
   "cell_type": "code",
   "execution_count": null,
   "metadata": {},
   "outputs": [],
   "source": [
    "#prit-tee strong"
   ]
  },
  {
   "cell_type": "markdown",
   "metadata": {},
   "source": [
    "These results suggest that vertical drop is your biggest positive feature. This makes intuitive sense and is consistent with what you saw during the EDA work. Also, you see the area covered by snow making equipment is a strong positive as well. People like guaranteed skiing! The skiable terrain area is negatively associated with ticket price! This seems odd. People will pay less for larger resorts? There could be all manner of reasons for this. It could be  an effect whereby larger resorts can host more visitors at any one time and so can charge less per ticket. As has been mentioned previously, the data are missing information about visitor numbers. Bear in mind,  the coefficient for skiable terrain is negative _for this model_. For example, if you kept the total number of chairs and fastQuads constant, but increased the skiable terrain extent, you might imagine the resort is worse off because the chairlift capacity is stretched thinner."
   ]
  },
  {
   "cell_type": "code",
   "execution_count": null,
   "metadata": {},
   "outputs": [],
   "source": [
    "#interesting - so you never know which way these things can go till you see the data, you can only conjecture\n",
    "#cuz like w/ supply, demand and price, there's always different possibilities that can explain a situation\n",
    "#like could be that price is low when demand is low or maybe demand is high but competition/supply is high too\n",
    "\n",
    "#so in the case of skiable acres, that's negatively correlated w/ price. on the outset, you might've thought that\n",
    "#parks with more land could/would charge more for a ticket because they're offering so much space. but in reality,\n",
    "#BECAUSE they're so open, there's not as much scarcity, thus they can't really charge more because there's not really\n",
    "#a 'competition' of ppl tryna get in. that's why companies/industry create 'artificial'/'planned' scarcity of supply\n",
    "#so that they can drive their own prices up. pretend there's no resources, but really they're purposely holding out so\n",
    "#they can charge more and make ppl fight/compete for / bid for stuff and give stuff only to those willing to pay the\n",
    "#most / to the highest bidder\n",
    "\n",
    "#trying to understand what the last bit is saying - if a resort held the number of chairs and fastquads constant,\n",
    "#but had more skiable terrain, then that might not work so well because it'd be harder for people to reach these areas\n",
    "#now ppl are gonna be fighting for chairs or there'll be unused/underutilized space"
   ]
  },
  {
   "cell_type": "markdown",
   "metadata": {},
   "source": [
    "## 4.10 Random Forest Model<a id='4.10_Random_Forest_Model'></a>"
   ]
  },
  {
   "cell_type": "markdown",
   "metadata": {},
   "source": [
    "A model that can work very well in a lot of cases is the random forest. For regression, this is provided by `sklearn`'s `RandomForestRegressor` class.\n",
    "\n",
    "Time to stop the bad practice of repeatedly checking performance on the test split. Instead, go straight from defining the pipeline to assessing performance using cross-validation. `cross_validate` will perform the fitting as part of the process. This uses the default settings for the random forest so you'll then proceed to investigate some different hyperparameters."
   ]
  },
  {
   "cell_type": "code",
   "execution_count": null,
   "metadata": {},
   "outputs": [],
   "source": [
    "#as we've seen w/ these, the common theme/thread is MASH UP AS MANY STEPS AS YOU CAN INTO ONE SUPERPACKAGE!\n",
    "#hashtagefficiency #bangforyourbuck"
   ]
  },
  {
   "cell_type": "code",
   "execution_count": null,
   "metadata": {},
   "outputs": [],
   "source": [
    "#hyperparameters?"
   ]
  },
  {
   "cell_type": "markdown",
   "metadata": {},
   "source": [
    "### 4.10.1 Define the pipeline<a id='4.10.1_Define_the_pipeline'></a>"
   ]
  },
  {
   "cell_type": "code",
   "execution_count": null,
   "metadata": {},
   "outputs": [],
   "source": [
    "#Code task 22#\n",
    "#Define a pipeline comprising the steps:\n",
    "#SimpleImputer() with a strategy of 'median'\n",
    "#StandardScaler(),\n",
    "#and then RandomForestRegressor() with a random state of 47\n",
    "RF_pipe = make_pipeline(\n",
    "    SimpleImputer(strategy='median'),\n",
    "    StandardScaler(),\n",
    "    RandomForestRegressor(random_state=47)\n",
    ")"
   ]
  },
  {
   "cell_type": "markdown",
   "metadata": {},
   "source": [
    "### 4.10.2 Fit and assess performance using cross-validation<a id='4.10.2_Fit_and_assess_performance_using_cross-validation'></a>"
   ]
  },
  {
   "cell_type": "code",
   "execution_count": null,
   "metadata": {},
   "outputs": [],
   "source": [
    "#Code task 23#\n",
    "#Call `cross_validate` to estimate the pipeline's performance.\n",
    "#Pass it the random forest pipe object, `X_train` and `y_train`,\n",
    "#and get it to use 5-fold cross-validation\n",
    "rf_default_cv_results = cross_validate(RF_pipe, X_train, y_train, cv=5)"
   ]
  },
  {
   "cell_type": "code",
   "execution_count": null,
   "metadata": {},
   "outputs": [],
   "source": [
    "rf_cv_scores = rf_default_cv_results['test_score']\n",
    "rf_cv_scores"
   ]
  },
  {
   "cell_type": "code",
   "execution_count": null,
   "metadata": {},
   "outputs": [],
   "source": [
    "# very close to template"
   ]
  },
  {
   "cell_type": "code",
   "execution_count": null,
   "metadata": {},
   "outputs": [],
   "source": [
    "np.mean(rf_cv_scores), np.std(rf_cv_scores)"
   ]
  },
  {
   "cell_type": "code",
   "execution_count": null,
   "metadata": {},
   "outputs": [],
   "source": [
    "# so what exactly is random forest anyway??"
   ]
  },
  {
   "cell_type": "markdown",
   "metadata": {},
   "source": [
    "### 4.10.3 Hyperparameter search using GridSearchCV<a id='4.10.3_Hyperparameter_search_using_GridSearchCV'></a>"
   ]
  },
  {
   "cell_type": "markdown",
   "metadata": {},
   "source": [
    "Random forest has a number of hyperparameters that can be explored, however here you'll limit yourselves to exploring some different values for the number of trees. You'll try it with and without feature scaling, and try both the mean and median as strategies for imputing missing values."
   ]
  },
  {
   "cell_type": "code",
   "execution_count": null,
   "metadata": {
    "scrolled": true
   },
   "outputs": [],
   "source": [
    "n_est = [int(n) for n in np.logspace(start=1, stop=3, num=20)]\n",
    "grid_params = {\n",
    "        'randomforestregressor__n_estimators': n_est,\n",
    "        'standardscaler': [StandardScaler(), None],\n",
    "        'simpleimputer__strategy': ['mean', 'median']\n",
    "}\n",
    "grid_params"
   ]
  },
  {
   "cell_type": "code",
   "execution_count": null,
   "metadata": {},
   "outputs": [],
   "source": [
    "# hain? what does this mean? i mean i see that we chose 20 numbers"
   ]
  },
  {
   "cell_type": "code",
   "execution_count": null,
   "metadata": {},
   "outputs": [],
   "source": [
    "#Code task 24#\n",
    "#Call `GridSearchCV` with the random forest pipeline, passing in the above `grid_params`\n",
    "#dict for parameters to evaluate, 5-fold cross-validation, and all available CPU cores (if desired)\n",
    "rf_grid_cv = GridSearchCV(RF_pipe, param_grid=grid_params, cv=5, n_jobs=-1)\n",
    "\n",
    "#what is it about the number of cpu cores to use? and what's n_jobs & -1?"
   ]
  },
  {
   "cell_type": "code",
   "execution_count": null,
   "metadata": {},
   "outputs": [],
   "source": [
    "#we made the GridSearchCV thing/pipeline/superpackage into an object and can now call on that to fit it w/ this\n",
    "#/the specific data that we want"
   ]
  },
  {
   "cell_type": "code",
   "execution_count": null,
   "metadata": {},
   "outputs": [],
   "source": [
    "#Code task 25#\n",
    "#Now call the `GridSearchCV`'s `fit()` method with `X_train` and `y_train` as arguments\n",
    "#to actually start the grid search. This may take a minute or two.\n",
    "rf_grid_cv.fit(X_train, y_train)"
   ]
  },
  {
   "cell_type": "code",
   "execution_count": null,
   "metadata": {},
   "outputs": [],
   "source": [
    "#Code task 26#\n",
    "#Print the best params (`best_params_` attribute) from the grid search\n",
    "rf_grid_cv.best_params_"
   ]
  },
  {
   "cell_type": "code",
   "execution_count": null,
   "metadata": {},
   "outputs": [],
   "source": [
    "#okay so what is n_estimators / that list of 20 nums? and so it's saying 69 is the best?\n",
    "\n",
    "#okay so apparently n_estimators is the number of 'trees' in the forest... not sure what that means, will have to\n",
    "#research/learn this stuff later"
   ]
  },
  {
   "cell_type": "markdown",
   "metadata": {},
   "source": [
    "It looks like imputing with the median helps, but scaling the features doesn't."
   ]
  },
  {
   "cell_type": "code",
   "execution_count": null,
   "metadata": {},
   "outputs": [],
   "source": [
    "rf_best_cv_results = cross_validate(rf_grid_cv.best_estimator_, X_train, y_train, cv=5)\n",
    "rf_best_scores = rf_best_cv_results['test_score']\n",
    "rf_best_scores"
   ]
  },
  {
   "cell_type": "code",
   "execution_count": null,
   "metadata": {},
   "outputs": [],
   "source": [
    "np.mean(rf_best_scores), np.std(rf_best_scores)"
   ]
  },
  {
   "cell_type": "markdown",
   "metadata": {},
   "source": [
    "You've marginally improved upon the default CV results. Random forest has many more hyperparameters you could tune, but we won't dive into that here."
   ]
  },
  {
   "cell_type": "code",
   "execution_count": null,
   "metadata": {},
   "outputs": [],
   "source": [
    "#Code task 27#\n",
    "#Plot a barplot of the random forest's feature importances,\n",
    "#assigning the `feature_importances_` attribute of \n",
    "#`rf_grid_cv.best_estimator_.named_steps.randomforestregressor` to the name `imps` to then\n",
    "#create a pandas Series object of the feature importances, with the index given by the\n",
    "#training data column names, sorting the values in descending order\n",
    "plt.subplots(figsize=(10, 5))\n",
    "imps = rf_grid_cv.best_estimator_.named_steps.randomforestregressor.feature_importances_\n",
    "rf_feat_imps = pd.Series(imps, index=X_train.columns).sort_values(ascending=False)\n",
    "rf_feat_imps.plot(kind='bar')\n",
    "plt.xlabel('features')\n",
    "plt.ylabel('importance')\n",
    "plt.title('Best random forest regressor feature importances');"
   ]
  },
  {
   "cell_type": "code",
   "execution_count": null,
   "metadata": {},
   "outputs": [],
   "source": [
    "#dope mashaAllah. this is pretty close too to the eda corrs:\n",
    "\n",
    "#runs\n",
    "#fastquads\n",
    "#vertical drop\n",
    "#snow making ac\n",
    "#total chairs\n",
    "#days open\n",
    "#longest run\n",
    "#trams"
   ]
  },
  {
   "cell_type": "markdown",
   "metadata": {},
   "source": [
    "Encouragingly, the dominant top four features are in common with your linear model:\n",
    "* fastQuads\n",
    "* Runs\n",
    "* Snow Making_ac\n",
    "* vertical_drop"
   ]
  },
  {
   "cell_type": "code",
   "execution_count": null,
   "metadata": {},
   "outputs": [],
   "source": [
    "#linear model meaning the above, (linear regression?), not eda"
   ]
  },
  {
   "cell_type": "markdown",
   "metadata": {},
   "source": [
    "## 4.11 Final Model Selection<a id='4.11_Final_Model_Selection'></a>"
   ]
  },
  {
   "cell_type": "markdown",
   "metadata": {},
   "source": [
    "Time to select your final model to use for further business modeling! It would be good to revisit the above model selection; there is undoubtedly more that could be done to explore possible hyperparameters.\n",
    "It would also be worthwhile to investigate removing the least useful features. Gathering or calculating, and storing, features adds business cost and dependencies, so if features genuinely are not needed they should be removed.\n",
    "Building a simpler model with fewer features can also have the advantage of being easier to sell (and/or explain) to stakeholders.\n",
    "Certainly there seem to be four strong features here and so a model using only those would probably work well.\n",
    "However, you want to explore some different scenarios where other features vary so keep the fuller \n",
    "model for now. \n",
    "The business is waiting for this model and you have something that you have confidence in to be much better than guessing with the average price.\n",
    "\n",
    "Or, rather, you have two \"somethings\". You built a best linear model and a best random forest model. You need to finally choose between them. You can calculate the mean absolute error using cross-validation. Although `cross-validate` defaults to the $R^2$ [metric for scoring](https://scikit-learn.org/stable/modules/model_evaluation.html#scoring) regression, you can specify the mean absolute error as an alternative via\n",
    "the `scoring` parameter."
   ]
  },
  {
   "cell_type": "code",
   "execution_count": null,
   "metadata": {},
   "outputs": [],
   "source": [
    "#aaaaaammmmmeeeeeeeennn to using fewer features / making a simpler model"
   ]
  },
  {
   "cell_type": "markdown",
   "metadata": {},
   "source": [
    "### 4.11.1 Linear regression model performance<a id='4.11.1_Linear_regression_model_performance'></a>"
   ]
  },
  {
   "cell_type": "code",
   "execution_count": null,
   "metadata": {},
   "outputs": [],
   "source": [
    "# 'neg_mean_absolute_error' uses the (negative of) the mean absolute error    (why???)\n",
    "lr_neg_mae = cross_validate(lr_grid_cv.best_estimator_, X_train, y_train, \n",
    "                            scoring='neg_mean_absolute_error', cv=5, n_jobs=-1)"
   ]
  },
  {
   "cell_type": "code",
   "execution_count": null,
   "metadata": {},
   "outputs": [],
   "source": [
    "lr_mae_mean = np.mean(-1 * lr_neg_mae['test_score'])     #ummm why not just use the regular/non-negative abso valu\n",
    "lr_mae_std = np.std(-1 * lr_neg_mae['test_score'])       #if you were just gonna make it all positive anyway / mult\n",
    "lr_mae_mean, lr_mae_std                                  #by -1???"
   ]
  },
  {
   "cell_type": "code",
   "execution_count": null,
   "metadata": {},
   "outputs": [],
   "source": [
    "mean_absolute_error(y_test, lr_grid_cv.best_estimator_.predict(X_test))"
   ]
  },
  {
   "cell_type": "markdown",
   "metadata": {},
   "source": [
    "### 4.11.2 Random forest regression model performance<a id='4.11.2_Random_forest_regression_model_performance'></a>"
   ]
  },
  {
   "cell_type": "code",
   "execution_count": null,
   "metadata": {},
   "outputs": [],
   "source": [
    "rf_neg_mae = cross_validate(rf_grid_cv.best_estimator_, X_train, y_train, \n",
    "                            scoring='neg_mean_absolute_error', cv=5, n_jobs=-1)"
   ]
  },
  {
   "cell_type": "code",
   "execution_count": null,
   "metadata": {},
   "outputs": [],
   "source": [
    "rf_mae_mean = np.mean(-1 * rf_neg_mae['test_score'])\n",
    "rf_mae_std = np.std(-1 * rf_neg_mae['test_score'])\n",
    "rf_mae_mean, rf_mae_std"
   ]
  },
  {
   "cell_type": "code",
   "execution_count": null,
   "metadata": {},
   "outputs": [],
   "source": [
    "mean_absolute_error(y_test, rf_grid_cv.best_estimator_.predict(X_test))"
   ]
  },
  {
   "cell_type": "markdown",
   "metadata": {},
   "source": [
    "### 4.11.3 Conclusion<a id='4.11.3_Conclusion'></a>"
   ]
  },
  {
   "cell_type": "markdown",
   "metadata": {},
   "source": [
    "The random forest model has a lower cross-validation mean absolute error by almost \\\\$1. It also exhibits less variability. Verifying performance on the test set produces performance consistent with the cross-validation results."
   ]
  },
  {
   "cell_type": "code",
   "execution_count": null,
   "metadata": {},
   "outputs": [],
   "source": [
    "#ohh i see, that's what the point of was of the last line in each of the last two blocks - testing it on the test to\n",
    "#see how it fared compared to on the train"
   ]
  },
  {
   "cell_type": "markdown",
   "metadata": {},
   "source": [
    "## 4.12 Data quantity assessment<a id='4.12_Data_quantity_assessment'></a>"
   ]
  },
  {
   "cell_type": "markdown",
   "metadata": {},
   "source": [
    "Finally, you need to advise the business whether it needs to undertake further data collection. Would more data be useful? We're often led to believe more data is always good, but gathering data invariably has a cost associated with it. Assess this trade off by seeing how performance varies with differing data set sizes. The `learning_curve` function does this conveniently."
   ]
  },
  {
   "cell_type": "code",
   "execution_count": null,
   "metadata": {},
   "outputs": [],
   "source": [
    "#so this is gonna tell us how performane aka r2 changes w/ differing sample sizes? so like see where the point of\n",
    "#diminishing returns is?\n",
    "\n",
    "fractions = [.2, .25, .3, .35, .4, .45, .5, .6, .75, .8, 1.0]\n",
    "train_size, train_scores, test_scores = learning_curve(pipe, X_train, y_train, train_sizes=fractions)\n",
    "train_scores_mean = np.mean(train_scores, axis=1)\n",
    "train_scores_std = np.std(train_scores, axis=1)\n",
    "test_scores_mean = np.mean(test_scores, axis=1)\n",
    "test_scores_std = np.std(test_scores, axis=1)"
   ]
  },
  {
   "cell_type": "code",
   "execution_count": null,
   "metadata": {
    "scrolled": true
   },
   "outputs": [],
   "source": [
    "#so this is gonna let us see if the test scores went up w/ more training or not!\n",
    "\n",
    "plt.subplots(figsize=(10, 5))\n",
    "plt.errorbar(train_size, test_scores_mean, yerr=test_scores_std)\n",
    "plt.xlabel('Training set size')\n",
    "plt.ylabel('CV scores')\n",
    "plt.title('Cross-validation score as training set size increases');"
   ]
  },
  {
   "cell_type": "code",
   "execution_count": null,
   "metadata": {},
   "outputs": [],
   "source": [
    "#EXACTLY! there you have it - ***SHARPLY*** DIMINISHING RETURNS!! AFTER 40 SAMPLES IT DOESN'T MATTER! so yeah we got\n",
    "#more than enough"
   ]
  },
  {
   "cell_type": "markdown",
   "metadata": {},
   "source": [
    "This shows that you seem to have plenty of data. There's an initial rapid improvement in model scores as one would expect, but it's essentially levelled off by around a sample size of 40-50."
   ]
  },
  {
   "cell_type": "markdown",
   "metadata": {},
   "source": [
    "## 4.13 Save best model object from pipeline<a id='4.13_Save_best_model_object_from_pipeline'></a>"
   ]
  },
  {
   "cell_type": "code",
   "execution_count": null,
   "metadata": {},
   "outputs": [],
   "source": [
    "#Code task 28#\n",
    "#This may not be \"production grade ML deployment\" practice, but adding some basic\n",
    "#information to your saved models can save your bacon in development.\n",
    "#Just what version model have you just loaded to reuse? What version of `sklearn`\n",
    "#created it? When did you make it?\n",
    "#Assign the pandas version number (`pd.__version__`) to the `pandas_version` attribute,\n",
    "#the numpy version (`np.__version__`) to the `numpy_version` attribute,\n",
    "#the sklearn version (`sklearn_version`) to the `sklearn_version` attribute,\n",
    "#and the current datetime (`datetime.datetime.now()`) to the `build_datetime` attribute\n",
    "#Let's call this model version '1.0'\n",
    "best_model = rf_grid_cv.best_estimator_\n",
    "best_model.version = 1.0 #this is the thing they're saying to just call 1.0 right\n",
    "best_model.pandas_version = 'pd.__version__'\n",
    "best_model.numpy_version = 'np.__version__'\n",
    "best_model.sklearn_version = 'sklearn_version'\n",
    "best_model.X_columns = [col for col in X_train.columns] #is this not the same thing as just saying X_train.columns alone?\n",
    "best_model.build_datetime = datetime.datetime.now()"
   ]
  },
  {
   "cell_type": "code",
   "execution_count": null,
   "metadata": {},
   "outputs": [],
   "source": [
    "# save the model\n",
    "\n",
    "modelpath = '../models'   #ohhh cool! didn't know you could do that. that's how you create a new file to your directory\n",
    "save_file(best_model, 'ski_resort_pricing_model.pkl', modelpath)"
   ]
  },
  {
   "cell_type": "markdown",
   "metadata": {},
   "source": [
    "## 4.14 Summary<a id='4.14_Summary'></a>"
   ]
  },
  {
   "cell_type": "markdown",
   "metadata": {},
   "source": [
    "**Q: 1** Write a summary of the work in this notebook. Capture the fact that you gained a baseline idea of performance by simply taking the average price and how well that did. Then highlight that you built a linear model and the features that found. Comment on the estimate of its performance from cross-validation and whether its performance on the test split was consistent with this estimate. Also highlight that a random forest regressor was tried, what preprocessing steps were found to be best, and again what its estimated performance via cross-validation was and whether its performance on the test set was consistent with that. State which model you have decided to use going forwards and why. This summary should provide a quick overview for someone wanting to know quickly why the given model was chosen for the next part of the business problem to help guide important business decisions."
   ]
  },
  {
   "cell_type": "markdown",
   "metadata": {},
   "source": [
    "**A: 1** Your answer here"
   ]
  }
 ],
 "metadata": {
  "kernelspec": {
   "display_name": "Python 3 (ipykernel)",
   "language": "python",
   "name": "python3"
  },
  "language_info": {
   "codemirror_mode": {
    "name": "ipython",
    "version": 3
   },
   "file_extension": ".py",
   "mimetype": "text/x-python",
   "name": "python",
   "nbconvert_exporter": "python",
   "pygments_lexer": "ipython3",
   "version": "3.8.8"
  },
  "toc": {
   "base_numbering": 1,
   "nav_menu": {},
   "number_sections": true,
   "sideBar": true,
   "skip_h1_title": false,
   "title_cell": "Table of Contents",
   "title_sidebar": "Contents",
   "toc_cell": false,
   "toc_position": {},
   "toc_section_display": true,
   "toc_window_display": true
  },
  "varInspector": {
   "cols": {
    "lenName": 16,
    "lenType": 16,
    "lenVar": 40
   },
   "kernels_config": {
    "python": {
     "delete_cmd_postfix": "",
     "delete_cmd_prefix": "del ",
     "library": "var_list.py",
     "varRefreshCmd": "print(var_dic_list())"
    },
    "r": {
     "delete_cmd_postfix": ") ",
     "delete_cmd_prefix": "rm(",
     "library": "var_list.r",
     "varRefreshCmd": "cat(var_dic_list()) "
    }
   },
   "types_to_exclude": [
    "module",
    "function",
    "builtin_function_or_method",
    "instance",
    "_Feature"
   ],
   "window_display": false
  }
 },
 "nbformat": 4,
 "nbformat_minor": 4
}
